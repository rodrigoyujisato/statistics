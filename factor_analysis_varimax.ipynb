{
  "cells": [
    {
      "cell_type": "markdown",
      "metadata": {
        "id": "view-in-github",
        "colab_type": "text"
      },
      "source": [
        "<a href=\"https://colab.research.google.com/github/rodrigoyujisato/statistics/blob/main/factor_analysis_varimax.ipynb\" target=\"_parent\"><img src=\"https://colab.research.google.com/assets/colab-badge.svg\" alt=\"Open In Colab\"/></a>"
      ]
    },
    {
      "cell_type": "markdown",
      "source": [
        "https://www.datacamp.com/tutorial/introduction-factor-analysis"
      ],
      "metadata": {
        "id": "ZHjapokvPb52"
      }
    },
    {
      "cell_type": "code",
      "execution_count": 67,
      "metadata": {
        "id": "SyRsXZ_MhPzY"
      },
      "outputs": [],
      "source": [
        "# !pip install factor_analyzer\n",
        "import pandas as pd\n",
        "from sklearn.datasets import load_iris\n",
        "from factor_analyzer import FactorAnalyzer\n",
        "import matplotlib.pyplot as plt\n",
        "import numpy as np\n",
        "import matplotlib.pyplot as plt\n",
        "import seaborn as sns\n",
        "import scipy.stats as stats\n",
        "import statsmodels.api as sm\n",
        "from statsmodels.formula.api import ols\n",
        "# ! pip install pingouin\n",
        "import pingouin as pg\n",
        "# ! pip install bioinfokit\n",
        "from bioinfokit.analys import stat"
      ]
    },
    {
      "cell_type": "code",
      "execution_count": 12,
      "metadata": {
        "id": "sTuEUEsGudgP",
        "colab": {
          "base_uri": "https://localhost:8080/",
          "height": 424
        },
        "outputId": "3e409594-4165-410e-b9e5-94f9825273c7"
      },
      "outputs": [
        {
          "output_type": "execute_result",
          "data": {
            "text/plain": [
              "     A10  A11  A12  A13  A14  A15  A16  A17  A18  A19  A20  A21  A22  A23\n",
              "0    4.0  3.0  3.0  2.0  5.0  2.0  3.0  2.0  2.0  5.0  3.0  3.0  3.0  3.0\n",
              "1    5.0  4.0  5.0  4.0  4.0  4.0  4.0  2.0  5.0  5.0  5.0  3.0  3.0  5.0\n",
              "2    4.0  4.0  4.0  5.0  4.0  5.0  5.0  3.0  3.0  4.0  4.0  3.0  3.0  3.0\n",
              "3    5.0  5.0  3.0  3.0  3.0  5.0  3.0  3.0  3.0  4.0  4.0  5.0  5.0  5.0\n",
              "4    5.0  5.0  5.0  5.0  5.0  5.0  5.0  3.0  5.0  4.0  2.0  2.0  2.0  2.0\n",
              "..   ...  ...  ...  ...  ...  ...  ...  ...  ...  ...  ...  ...  ...  ...\n",
              "123  5.0  5.0  4.0  5.0  2.0  5.0  2.0  2.0  2.0  5.0  5.0  5.0  5.0  4.0\n",
              "124  4.0  4.0  5.0  5.0  5.0  5.0  5.0  3.0  3.0  3.0  3.0  2.0  2.0  2.0\n",
              "125  4.0  4.0  4.0  4.0  4.0  4.0  4.0  2.0  4.0  5.0  5.0  5.0  1.0  3.0\n",
              "126  5.0  5.0  5.0  3.0  5.0  5.0  5.0  3.0  3.0  4.0  5.0  5.0  2.0  3.0\n",
              "127  5.0  4.0  5.0  5.0  2.0  3.0  5.0  1.0  3.0  4.0  4.0  4.0  4.0  5.0\n",
              "\n",
              "[128 rows x 14 columns]"
            ],
            "text/html": [
              "\n",
              "  <div id=\"df-cdd53434-06bc-4694-8b36-c651b7e7d274\">\n",
              "    <div class=\"colab-df-container\">\n",
              "      <div>\n",
              "<style scoped>\n",
              "    .dataframe tbody tr th:only-of-type {\n",
              "        vertical-align: middle;\n",
              "    }\n",
              "\n",
              "    .dataframe tbody tr th {\n",
              "        vertical-align: top;\n",
              "    }\n",
              "\n",
              "    .dataframe thead th {\n",
              "        text-align: right;\n",
              "    }\n",
              "</style>\n",
              "<table border=\"1\" class=\"dataframe\">\n",
              "  <thead>\n",
              "    <tr style=\"text-align: right;\">\n",
              "      <th></th>\n",
              "      <th>A10</th>\n",
              "      <th>A11</th>\n",
              "      <th>A12</th>\n",
              "      <th>A13</th>\n",
              "      <th>A14</th>\n",
              "      <th>A15</th>\n",
              "      <th>A16</th>\n",
              "      <th>A17</th>\n",
              "      <th>A18</th>\n",
              "      <th>A19</th>\n",
              "      <th>A20</th>\n",
              "      <th>A21</th>\n",
              "      <th>A22</th>\n",
              "      <th>A23</th>\n",
              "    </tr>\n",
              "  </thead>\n",
              "  <tbody>\n",
              "    <tr>\n",
              "      <th>0</th>\n",
              "      <td>4.0</td>\n",
              "      <td>3.0</td>\n",
              "      <td>3.0</td>\n",
              "      <td>2.0</td>\n",
              "      <td>5.0</td>\n",
              "      <td>2.0</td>\n",
              "      <td>3.0</td>\n",
              "      <td>2.0</td>\n",
              "      <td>2.0</td>\n",
              "      <td>5.0</td>\n",
              "      <td>3.0</td>\n",
              "      <td>3.0</td>\n",
              "      <td>3.0</td>\n",
              "      <td>3.0</td>\n",
              "    </tr>\n",
              "    <tr>\n",
              "      <th>1</th>\n",
              "      <td>5.0</td>\n",
              "      <td>4.0</td>\n",
              "      <td>5.0</td>\n",
              "      <td>4.0</td>\n",
              "      <td>4.0</td>\n",
              "      <td>4.0</td>\n",
              "      <td>4.0</td>\n",
              "      <td>2.0</td>\n",
              "      <td>5.0</td>\n",
              "      <td>5.0</td>\n",
              "      <td>5.0</td>\n",
              "      <td>3.0</td>\n",
              "      <td>3.0</td>\n",
              "      <td>5.0</td>\n",
              "    </tr>\n",
              "    <tr>\n",
              "      <th>2</th>\n",
              "      <td>4.0</td>\n",
              "      <td>4.0</td>\n",
              "      <td>4.0</td>\n",
              "      <td>5.0</td>\n",
              "      <td>4.0</td>\n",
              "      <td>5.0</td>\n",
              "      <td>5.0</td>\n",
              "      <td>3.0</td>\n",
              "      <td>3.0</td>\n",
              "      <td>4.0</td>\n",
              "      <td>4.0</td>\n",
              "      <td>3.0</td>\n",
              "      <td>3.0</td>\n",
              "      <td>3.0</td>\n",
              "    </tr>\n",
              "    <tr>\n",
              "      <th>3</th>\n",
              "      <td>5.0</td>\n",
              "      <td>5.0</td>\n",
              "      <td>3.0</td>\n",
              "      <td>3.0</td>\n",
              "      <td>3.0</td>\n",
              "      <td>5.0</td>\n",
              "      <td>3.0</td>\n",
              "      <td>3.0</td>\n",
              "      <td>3.0</td>\n",
              "      <td>4.0</td>\n",
              "      <td>4.0</td>\n",
              "      <td>5.0</td>\n",
              "      <td>5.0</td>\n",
              "      <td>5.0</td>\n",
              "    </tr>\n",
              "    <tr>\n",
              "      <th>4</th>\n",
              "      <td>5.0</td>\n",
              "      <td>5.0</td>\n",
              "      <td>5.0</td>\n",
              "      <td>5.0</td>\n",
              "      <td>5.0</td>\n",
              "      <td>5.0</td>\n",
              "      <td>5.0</td>\n",
              "      <td>3.0</td>\n",
              "      <td>5.0</td>\n",
              "      <td>4.0</td>\n",
              "      <td>2.0</td>\n",
              "      <td>2.0</td>\n",
              "      <td>2.0</td>\n",
              "      <td>2.0</td>\n",
              "    </tr>\n",
              "    <tr>\n",
              "      <th>...</th>\n",
              "      <td>...</td>\n",
              "      <td>...</td>\n",
              "      <td>...</td>\n",
              "      <td>...</td>\n",
              "      <td>...</td>\n",
              "      <td>...</td>\n",
              "      <td>...</td>\n",
              "      <td>...</td>\n",
              "      <td>...</td>\n",
              "      <td>...</td>\n",
              "      <td>...</td>\n",
              "      <td>...</td>\n",
              "      <td>...</td>\n",
              "      <td>...</td>\n",
              "    </tr>\n",
              "    <tr>\n",
              "      <th>123</th>\n",
              "      <td>5.0</td>\n",
              "      <td>5.0</td>\n",
              "      <td>4.0</td>\n",
              "      <td>5.0</td>\n",
              "      <td>2.0</td>\n",
              "      <td>5.0</td>\n",
              "      <td>2.0</td>\n",
              "      <td>2.0</td>\n",
              "      <td>2.0</td>\n",
              "      <td>5.0</td>\n",
              "      <td>5.0</td>\n",
              "      <td>5.0</td>\n",
              "      <td>5.0</td>\n",
              "      <td>4.0</td>\n",
              "    </tr>\n",
              "    <tr>\n",
              "      <th>124</th>\n",
              "      <td>4.0</td>\n",
              "      <td>4.0</td>\n",
              "      <td>5.0</td>\n",
              "      <td>5.0</td>\n",
              "      <td>5.0</td>\n",
              "      <td>5.0</td>\n",
              "      <td>5.0</td>\n",
              "      <td>3.0</td>\n",
              "      <td>3.0</td>\n",
              "      <td>3.0</td>\n",
              "      <td>3.0</td>\n",
              "      <td>2.0</td>\n",
              "      <td>2.0</td>\n",
              "      <td>2.0</td>\n",
              "    </tr>\n",
              "    <tr>\n",
              "      <th>125</th>\n",
              "      <td>4.0</td>\n",
              "      <td>4.0</td>\n",
              "      <td>4.0</td>\n",
              "      <td>4.0</td>\n",
              "      <td>4.0</td>\n",
              "      <td>4.0</td>\n",
              "      <td>4.0</td>\n",
              "      <td>2.0</td>\n",
              "      <td>4.0</td>\n",
              "      <td>5.0</td>\n",
              "      <td>5.0</td>\n",
              "      <td>5.0</td>\n",
              "      <td>1.0</td>\n",
              "      <td>3.0</td>\n",
              "    </tr>\n",
              "    <tr>\n",
              "      <th>126</th>\n",
              "      <td>5.0</td>\n",
              "      <td>5.0</td>\n",
              "      <td>5.0</td>\n",
              "      <td>3.0</td>\n",
              "      <td>5.0</td>\n",
              "      <td>5.0</td>\n",
              "      <td>5.0</td>\n",
              "      <td>3.0</td>\n",
              "      <td>3.0</td>\n",
              "      <td>4.0</td>\n",
              "      <td>5.0</td>\n",
              "      <td>5.0</td>\n",
              "      <td>2.0</td>\n",
              "      <td>3.0</td>\n",
              "    </tr>\n",
              "    <tr>\n",
              "      <th>127</th>\n",
              "      <td>5.0</td>\n",
              "      <td>4.0</td>\n",
              "      <td>5.0</td>\n",
              "      <td>5.0</td>\n",
              "      <td>2.0</td>\n",
              "      <td>3.0</td>\n",
              "      <td>5.0</td>\n",
              "      <td>1.0</td>\n",
              "      <td>3.0</td>\n",
              "      <td>4.0</td>\n",
              "      <td>4.0</td>\n",
              "      <td>4.0</td>\n",
              "      <td>4.0</td>\n",
              "      <td>5.0</td>\n",
              "    </tr>\n",
              "  </tbody>\n",
              "</table>\n",
              "<p>128 rows × 14 columns</p>\n",
              "</div>\n",
              "      <button class=\"colab-df-convert\" onclick=\"convertToInteractive('df-cdd53434-06bc-4694-8b36-c651b7e7d274')\"\n",
              "              title=\"Convert this dataframe to an interactive table.\"\n",
              "              style=\"display:none;\">\n",
              "        \n",
              "  <svg xmlns=\"http://www.w3.org/2000/svg\" height=\"24px\"viewBox=\"0 0 24 24\"\n",
              "       width=\"24px\">\n",
              "    <path d=\"M0 0h24v24H0V0z\" fill=\"none\"/>\n",
              "    <path d=\"M18.56 5.44l.94 2.06.94-2.06 2.06-.94-2.06-.94-.94-2.06-.94 2.06-2.06.94zm-11 1L8.5 8.5l.94-2.06 2.06-.94-2.06-.94L8.5 2.5l-.94 2.06-2.06.94zm10 10l.94 2.06.94-2.06 2.06-.94-2.06-.94-.94-2.06-.94 2.06-2.06.94z\"/><path d=\"M17.41 7.96l-1.37-1.37c-.4-.4-.92-.59-1.43-.59-.52 0-1.04.2-1.43.59L10.3 9.45l-7.72 7.72c-.78.78-.78 2.05 0 2.83L4 21.41c.39.39.9.59 1.41.59.51 0 1.02-.2 1.41-.59l7.78-7.78 2.81-2.81c.8-.78.8-2.07 0-2.86zM5.41 20L4 18.59l7.72-7.72 1.47 1.35L5.41 20z\"/>\n",
              "  </svg>\n",
              "      </button>\n",
              "      \n",
              "  <style>\n",
              "    .colab-df-container {\n",
              "      display:flex;\n",
              "      flex-wrap:wrap;\n",
              "      gap: 12px;\n",
              "    }\n",
              "\n",
              "    .colab-df-convert {\n",
              "      background-color: #E8F0FE;\n",
              "      border: none;\n",
              "      border-radius: 50%;\n",
              "      cursor: pointer;\n",
              "      display: none;\n",
              "      fill: #1967D2;\n",
              "      height: 32px;\n",
              "      padding: 0 0 0 0;\n",
              "      width: 32px;\n",
              "    }\n",
              "\n",
              "    .colab-df-convert:hover {\n",
              "      background-color: #E2EBFA;\n",
              "      box-shadow: 0px 1px 2px rgba(60, 64, 67, 0.3), 0px 1px 3px 1px rgba(60, 64, 67, 0.15);\n",
              "      fill: #174EA6;\n",
              "    }\n",
              "\n",
              "    [theme=dark] .colab-df-convert {\n",
              "      background-color: #3B4455;\n",
              "      fill: #D2E3FC;\n",
              "    }\n",
              "\n",
              "    [theme=dark] .colab-df-convert:hover {\n",
              "      background-color: #434B5C;\n",
              "      box-shadow: 0px 1px 3px 1px rgba(0, 0, 0, 0.15);\n",
              "      filter: drop-shadow(0px 1px 2px rgba(0, 0, 0, 0.3));\n",
              "      fill: #FFFFFF;\n",
              "    }\n",
              "  </style>\n",
              "\n",
              "      <script>\n",
              "        const buttonEl =\n",
              "          document.querySelector('#df-cdd53434-06bc-4694-8b36-c651b7e7d274 button.colab-df-convert');\n",
              "        buttonEl.style.display =\n",
              "          google.colab.kernel.accessAllowed ? 'block' : 'none';\n",
              "\n",
              "        async function convertToInteractive(key) {\n",
              "          const element = document.querySelector('#df-cdd53434-06bc-4694-8b36-c651b7e7d274');\n",
              "          const dataTable =\n",
              "            await google.colab.kernel.invokeFunction('convertToInteractive',\n",
              "                                                     [key], {});\n",
              "          if (!dataTable) return;\n",
              "\n",
              "          const docLinkHtml = 'Like what you see? Visit the ' +\n",
              "            '<a target=\"_blank\" href=https://colab.research.google.com/notebooks/data_table.ipynb>data table notebook</a>'\n",
              "            + ' to learn more about interactive tables.';\n",
              "          element.innerHTML = '';\n",
              "          dataTable['output_type'] = 'display_data';\n",
              "          await google.colab.output.renderOutput(dataTable, element);\n",
              "          const docLink = document.createElement('div');\n",
              "          docLink.innerHTML = docLinkHtml;\n",
              "          element.appendChild(docLink);\n",
              "        }\n",
              "      </script>\n",
              "    </div>\n",
              "  </div>\n",
              "  "
            ]
          },
          "metadata": {},
          "execution_count": 12
        }
      ],
      "source": [
        "data = pd.read_csv(\"clean.csv\", delimiter= ';', decimal=\",\")\n",
        "data = data.astype(float)\n",
        "data.drop(['id','tempo','area','A1','A2','A3','A4','A5','A6','A7','A8','A9'],axis=1,inplace=True)\n",
        "data"
      ]
    },
    {
      "cell_type": "code",
      "source": [
        "data.info()"
      ],
      "metadata": {
        "id": "vJe17688BEwa",
        "outputId": "7fee34b6-0168-4a84-cc0f-a670eeb1f160",
        "colab": {
          "base_uri": "https://localhost:8080/"
        }
      },
      "execution_count": 13,
      "outputs": [
        {
          "output_type": "stream",
          "name": "stdout",
          "text": [
            "<class 'pandas.core.frame.DataFrame'>\n",
            "RangeIndex: 128 entries, 0 to 127\n",
            "Data columns (total 14 columns):\n",
            " #   Column  Non-Null Count  Dtype  \n",
            "---  ------  --------------  -----  \n",
            " 0   A10     128 non-null    float64\n",
            " 1   A11     128 non-null    float64\n",
            " 2   A12     128 non-null    float64\n",
            " 3   A13     128 non-null    float64\n",
            " 4   A14     128 non-null    float64\n",
            " 5   A15     128 non-null    float64\n",
            " 6   A16     128 non-null    float64\n",
            " 7   A17     128 non-null    float64\n",
            " 8   A18     128 non-null    float64\n",
            " 9   A19     128 non-null    float64\n",
            " 10  A20     128 non-null    float64\n",
            " 11  A21     128 non-null    float64\n",
            " 12  A22     128 non-null    float64\n",
            " 13  A23     128 non-null    float64\n",
            "dtypes: float64(14)\n",
            "memory usage: 14.1 KB\n"
          ]
        }
      ]
    },
    {
      "cell_type": "code",
      "source": [
        "from factor_analyzer.factor_analyzer import calculate_bartlett_sphericity\n",
        "chi_square_value,p_value=calculate_bartlett_sphericity(data)\n",
        "chi_square_value, p_value"
      ],
      "metadata": {
        "id": "JivGy437DbOe",
        "outputId": "3c3c2a9d-3043-44cd-ed60-7f3ec90d6556",
        "colab": {
          "base_uri": "https://localhost:8080/"
        }
      },
      "execution_count": 14,
      "outputs": [
        {
          "output_type": "execute_result",
          "data": {
            "text/plain": [
              "(447.058360659338, 2.0592082841633175e-48)"
            ]
          },
          "metadata": {},
          "execution_count": 14
        }
      ]
    },
    {
      "cell_type": "code",
      "source": [
        "from factor_analyzer.factor_analyzer import calculate_kmo\n",
        "kmo_all,kmo_model=calculate_kmo(data)\n",
        "kmo_model"
      ],
      "metadata": {
        "id": "v2P4nVUOGDm6",
        "outputId": "e158e138-5c27-46cb-9eb7-3ed715e8d561",
        "colab": {
          "base_uri": "https://localhost:8080/"
        }
      },
      "execution_count": 22,
      "outputs": [
        {
          "output_type": "execute_result",
          "data": {
            "text/plain": [
              "0.5776924257902982"
            ]
          },
          "metadata": {},
          "execution_count": 22
        }
      ]
    },
    {
      "cell_type": "code",
      "source": [
        "fa = FactorAnalyzer(rotation='varimax')\n",
        "fa.fit(data)\n",
        "eigen_values, vectors = fa.get_eigenvalues()\n",
        "eigen_values\n",
        "vectors"
      ],
      "metadata": {
        "id": "v80iNKsdGJrI",
        "outputId": "6250ad3e-f285-4bec-b2d5-5e57263c7147",
        "colab": {
          "base_uri": "https://localhost:8080/"
        }
      },
      "execution_count": 23,
      "outputs": [
        {
          "output_type": "execute_result",
          "data": {
            "text/plain": [
              "array([ 2.33113943,  1.754699  ,  0.90830824,  0.44356969,  0.35792351,\n",
              "        0.31678789,  0.17728043,  0.10364604, -0.07322984, -0.14986938,\n",
              "       -0.17101791, -0.22829919, -0.37593997, -0.40085238])"
            ]
          },
          "metadata": {},
          "execution_count": 23
        }
      ]
    },
    {
      "cell_type": "code",
      "source": [
        "plt.scatter(range(1,data.shape[1]+1),eigen_values)\n",
        "plt.plot(range(1,data.shape[1]+1),eigen_values)\n",
        "plt.title('Scree Plot')\n",
        "plt.xlabel('Factors')\n",
        "plt.ylabel('Eigenvalue')\n",
        "plt.grid()\n",
        "plt.show()"
      ],
      "metadata": {
        "id": "L_1-VRPHG49w",
        "outputId": "52c617a6-b90e-4037-e563-68534a75121a",
        "colab": {
          "base_uri": "https://localhost:8080/",
          "height": 295
        }
      },
      "execution_count": 24,
      "outputs": [
        {
          "output_type": "display_data",
          "data": {
            "text/plain": [
              "<Figure size 432x288 with 1 Axes>"
            ],
            "image/png": "[encoded data removed]"
          },
          "metadata": {
            "needs_background": "light"
          }
        }
      ]
    },
    {
      "cell_type": "code",
      "source": [
        "fa = FactorAnalyzer(bounds=(0.005, 1), impute='drop', is_corr_matrix=False,\n",
        "        method='minres', n_factors=3, rotation='varimax',use_smc=True)\n",
        "fa.fit(data)\n",
        "lo = fa.loadings_\n",
        "co = fa.corr_\n",
        "rm = fa.rotation_matrix_"
      ],
      "metadata": {
        "id": "MmI8u1gGHC8P"
      },
      "execution_count": 25,
      "outputs": []
    },
    {
      "cell_type": "code",
      "source": [
        "lo"
      ],
      "metadata": {
        "id": "mdwlKL8ER6no",
        "outputId": "a008b865-599b-4042-c434-df4f9dcf4ceb",
        "colab": {
          "base_uri": "https://localhost:8080/"
        }
      },
      "execution_count": null,
      "outputs": [
        {
          "output_type": "execute_result",
          "data": {
            "text/plain": [
              "array([[ 0.032006  ,  0.15615408, -0.00230642],\n",
              "       [ 0.04581453,  0.14085574,  0.08626857],\n",
              "       [ 0.01095691,  0.35376556,  0.13259311],\n",
              "       [-0.07451943,  0.35209052,  0.31219619],\n",
              "       [-0.12380524,  0.30715405,  0.28615935],\n",
              "       [-0.10864879,  0.79682066,  0.07291867],\n",
              "       [-0.02754292,  0.65660782,  0.12657476],\n",
              "       [-0.00103532,  0.28226924,  0.59631415],\n",
              "       [ 0.02179674,  0.15009192,  0.85580845],\n",
              "       [ 0.3732556 , -0.11895491,  0.14242502],\n",
              "       [ 0.51937206, -0.0118271 ,  0.16815453],\n",
              "       [ 0.53691153,  0.00200559, -0.03093465],\n",
              "       [ 0.7756686 ,  0.18959337, -0.35014586],\n",
              "       [ 0.69180116,  0.08480093, -0.28314982]])"
            ]
          },
          "metadata": {},
          "execution_count": 95
        }
      ]
    },
    {
      "cell_type": "code",
      "source": [
        "co"
      ],
      "metadata": {
        "id": "SQNEiP0AR-Bo",
        "outputId": "d74164a4-78b5-4d6e-f273-55566161ddae",
        "colab": {
          "base_uri": "https://localhost:8080/"
        }
      },
      "execution_count": 26,
      "outputs": [
        {
          "output_type": "execute_result",
          "data": {
            "text/plain": [
              "array([[ 1.00000000e+00,  1.39776136e-01,  3.46519662e-02,\n",
              "         1.43457863e-01,  4.02165372e-02,  2.18373716e-01,\n",
              "        -3.23779623e-02,  6.27661963e-02, -4.48528569e-02,\n",
              "         8.90304317e-02, -8.89845048e-02,  1.88764640e-01,\n",
              "        -3.17930321e-02,  4.06330129e-02],\n",
              "       [ 1.39776136e-01,  1.00000000e+00,  2.92054247e-01,\n",
              "         3.89517405e-02,  1.02734766e-01,  7.91025295e-02,\n",
              "         3.84073182e-02,  3.71754572e-02,  6.78288451e-02,\n",
              "        -1.19691450e-03,  1.27159341e-01,  2.07496690e-02,\n",
              "        -2.89862924e-02,  1.56476757e-02],\n",
              "       [ 3.46519662e-02,  2.92054247e-01,  1.00000000e+00,\n",
              "         3.36472014e-01,  4.98600741e-02,  1.92294985e-01,\n",
              "         3.08845639e-01,  6.62804732e-02,  1.87637983e-01,\n",
              "        -4.13299193e-02,  9.65024413e-02, -1.29651308e-01,\n",
              "         5.86144619e-02,  2.13424731e-04],\n",
              "       [ 1.43457863e-01,  3.89517405e-02,  3.36472014e-01,\n",
              "         1.00000000e+00,  1.23523080e-01,  3.10782079e-01,\n",
              "         1.89618140e-01,  3.14123933e-01,  3.21958264e-01,\n",
              "         2.59862612e-02, -3.47508479e-02, -9.00993875e-02,\n",
              "        -3.28659780e-02, -1.71215751e-01],\n",
              "       [ 4.02165372e-02,  1.02734766e-01,  4.98600741e-02,\n",
              "         1.23523080e-01,  1.00000000e+00,  3.50524384e-01,\n",
              "         2.66285508e-01,  2.17806087e-01,  3.15590742e-01,\n",
              "        -6.48137659e-02,  5.54532842e-02, -5.54367974e-02,\n",
              "        -1.94872294e-01, -1.34693040e-01],\n",
              "       [ 2.18373716e-01,  7.91025295e-02,  1.92294985e-01,\n",
              "         3.10782079e-01,  3.50524384e-01,  1.00000000e+00,\n",
              "         5.62269846e-01,  2.47480509e-01,  1.70872529e-01,\n",
              "        -7.94527233e-02, -3.87004609e-02, -7.60148843e-02,\n",
              "         2.64795066e-02, -2.08268786e-02],\n",
              "       [-3.23779623e-02,  3.84073182e-02,  3.08845639e-01,\n",
              "         1.89618140e-01,  2.66285508e-01,  5.62269846e-01,\n",
              "         1.00000000e+00,  3.22141869e-01,  1.63862611e-01,\n",
              "        -8.22724503e-02,  4.22620789e-02,  2.71670932e-03,\n",
              "         5.40197946e-02, -2.47262128e-02],\n",
              "       [ 6.27661963e-02,  3.71754572e-02,  6.62804732e-02,\n",
              "         3.14123933e-01,  2.17806087e-01,  2.47480509e-01,\n",
              "         3.22141869e-01,  1.00000000e+00,  6.12538488e-01,\n",
              "        -1.80291911e-02,  4.85733314e-03,  8.81560989e-02,\n",
              "        -1.27369400e-01, -1.56947553e-01],\n",
              "       [-4.48528569e-02,  6.78288451e-02,  1.87637983e-01,\n",
              "         3.21958264e-01,  3.15590742e-01,  1.70872529e-01,\n",
              "         1.63862611e-01,  6.12538488e-01,  1.00000000e+00,\n",
              "         6.34382661e-02,  1.12702944e-01, -5.02679023e-02,\n",
              "        -2.39672599e-01, -1.39313673e-01],\n",
              "       [ 8.90304317e-02, -1.19691450e-03, -4.13299193e-02,\n",
              "         2.59862612e-02, -6.48137659e-02, -7.94527233e-02,\n",
              "        -8.22724503e-02, -1.80291911e-02,  6.34382661e-02,\n",
              "         1.00000000e+00,  4.28278484e-01,  1.79231020e-01,\n",
              "         1.78368453e-01,  1.13468345e-01],\n",
              "       [-8.89845048e-02,  1.27159341e-01,  9.65024413e-02,\n",
              "        -3.47508479e-02,  5.54532842e-02, -3.87004609e-02,\n",
              "         4.22620789e-02,  4.85733314e-03,  1.12702944e-01,\n",
              "         4.28278484e-01,  1.00000000e+00,  2.58851590e-01,\n",
              "         2.83728138e-01,  2.85928194e-01],\n",
              "       [ 1.88764640e-01,  2.07496690e-02, -1.29651308e-01,\n",
              "        -9.00993875e-02, -5.54367974e-02, -7.60148843e-02,\n",
              "         2.71670932e-03,  8.81560989e-02, -5.02679023e-02,\n",
              "         1.79231020e-01,  2.58851590e-01,  1.00000000e+00,\n",
              "         4.40528188e-01,  3.78671925e-01],\n",
              "       [-3.17930321e-02, -2.89862924e-02,  5.86144619e-02,\n",
              "        -3.28659780e-02, -1.94872294e-01,  2.64795066e-02,\n",
              "         5.40197946e-02, -1.27369400e-01, -2.39672599e-01,\n",
              "         1.78368453e-01,  2.83728138e-01,  4.40528188e-01,\n",
              "         1.00000000e+00,  7.08071013e-01],\n",
              "       [ 4.06330129e-02,  1.56476757e-02,  2.13424731e-04,\n",
              "        -1.71215751e-01, -1.34693040e-01, -2.08268786e-02,\n",
              "        -2.47262128e-02, -1.56947553e-01, -1.39313673e-01,\n",
              "         1.13468345e-01,  2.85928194e-01,  3.78671925e-01,\n",
              "         7.08071013e-01,  1.00000000e+00]])"
            ]
          },
          "metadata": {},
          "execution_count": 26
        }
      ]
    },
    {
      "cell_type": "code",
      "source": [
        "arr = np.asarray(lo)\n",
        "np.savetxt('clean_result.csv',arr, delimiter=\";\", fmt='%1.4f')   \n",
        "arr"
      ],
      "metadata": {
        "id": "cT7t3_bMRy_A",
        "outputId": "0719604e-73bb-46f1-b395-45c9ad03189c",
        "colab": {
          "base_uri": "https://localhost:8080/"
        }
      },
      "execution_count": 29,
      "outputs": [
        {
          "output_type": "execute_result",
          "data": {
            "text/plain": [
              "array([[ 0.032006  ,  0.15615408, -0.00230642],\n",
              "       [ 0.04581453,  0.14085574,  0.08626857],\n",
              "       [ 0.01095691,  0.35376556,  0.13259311],\n",
              "       [-0.07451943,  0.35209052,  0.31219619],\n",
              "       [-0.12380524,  0.30715405,  0.28615935],\n",
              "       [-0.10864879,  0.79682066,  0.07291867],\n",
              "       [-0.02754292,  0.65660782,  0.12657476],\n",
              "       [-0.00103532,  0.28226924,  0.59631415],\n",
              "       [ 0.02179674,  0.15009192,  0.85580845],\n",
              "       [ 0.3732556 , -0.11895491,  0.14242502],\n",
              "       [ 0.51937206, -0.0118271 ,  0.16815453],\n",
              "       [ 0.53691153,  0.00200559, -0.03093465],\n",
              "       [ 0.7756686 ,  0.18959337, -0.35014586],\n",
              "       [ 0.69180116,  0.08480093, -0.28314982]])"
            ]
          },
          "metadata": {},
          "execution_count": 29
        }
      ]
    },
    {
      "cell_type": "code",
      "source": [
        "fa.get_factor_variance()"
      ],
      "metadata": {
        "id": "sN4i7DPrIaSB",
        "outputId": "65abd40a-585b-4d5e-c519-34d0dfd52c47",
        "colab": {
          "base_uri": "https://localhost:8080/"
        }
      },
      "execution_count": 30,
      "outputs": [
        {
          "output_type": "execute_result",
          "data": {
            "text/plain": [
              "(array([1.81475533, 1.61337738, 1.56601287]),\n",
              " array([0.12962538, 0.11524124, 0.11185806]),\n",
              " array([0.12962538, 0.24486662, 0.35672468]))"
            ]
          },
          "metadata": {},
          "execution_count": 30
        }
      ]
    },
    {
      "cell_type": "code",
      "source": [
        "df = pd.read_csv(\"clean.csv\", delimiter= ';', decimal=\",\")\n",
        "# reshape the d dataframe suitable for statsmodels package \n",
        "df_melt = pd.melt(df.reset_index(), id_vars=['area'], value_vars=[\n",
        "'A1',\n",
        "'A2',\n",
        "'A3',\n",
        "'A4',\n",
        "'A5',\n",
        "'A6',\n",
        "'A7',\n",
        "'A8',\n",
        "'A9',\n",
        "'A10',\n",
        "'A11',\n",
        "'A12',\n",
        "'A13',\n",
        "'A14',\n",
        "'A15',\n",
        "'A16',\n",
        "'A17',\n",
        "'A18',\n",
        "'A19',\n",
        "'A20',\n",
        "'A21',\n",
        "'A22',\n",
        "'A23'\n",
        "])\n",
        "# replace column names\n",
        "df_melt.columns = ['index', 'treatments', 'value']\n",
        "\n",
        "# generate a boxplot to see the data distribution by treatments. Using boxplot, we can \n",
        "# easily detect the differences between different treatments\n",
        "\n",
        "ax = sns.boxplot(y='treatments', x='value', data=df_melt, color='#99c2a2')\n",
        "ax = sns.swarmplot(y=\"treatments\", x=\"value\", data=df_melt, color='#7d0013', size=1)\n",
        "plt.show()"
      ],
      "metadata": {
        "id": "dThC--7lA1-W",
        "outputId": "aedf3127-2790-4e20-981c-b428d68fc8af",
        "colab": {
          "base_uri": "https://localhost:8080/",
          "height": 646
        }
      },
      "execution_count": 72,
      "outputs": [
        {
          "output_type": "stream",
          "name": "stderr",
          "text": [
            "/usr/local/lib/python3.8/dist-packages/seaborn/categorical.py:1296: UserWarning: 82.8% of the points cannot be placed; you may want to decrease the size of the markers or use stripplot.\n",
            "  warnings.warn(msg, UserWarning)\n",
            "/usr/local/lib/python3.8/dist-packages/seaborn/categorical.py:1296: UserWarning: 77.3% of the points cannot be placed; you may want to decrease the size of the markers or use stripplot.\n",
            "  warnings.warn(msg, UserWarning)\n",
            "/usr/local/lib/python3.8/dist-packages/seaborn/categorical.py:1296: UserWarning: 78.1% of the points cannot be placed; you may want to decrease the size of the markers or use stripplot.\n",
            "  warnings.warn(msg, UserWarning)\n",
            "/usr/local/lib/python3.8/dist-packages/seaborn/categorical.py:1296: UserWarning: 80.5% of the points cannot be placed; you may want to decrease the size of the markers or use stripplot.\n",
            "  warnings.warn(msg, UserWarning)\n",
            "/usr/local/lib/python3.8/dist-packages/seaborn/categorical.py:1296: UserWarning: 82.0% of the points cannot be placed; you may want to decrease the size of the markers or use stripplot.\n",
            "  warnings.warn(msg, UserWarning)\n",
            "/usr/local/lib/python3.8/dist-packages/seaborn/categorical.py:1296: UserWarning: 79.7% of the points cannot be placed; you may want to decrease the size of the markers or use stripplot.\n",
            "  warnings.warn(msg, UserWarning)\n",
            "/usr/local/lib/python3.8/dist-packages/seaborn/categorical.py:1296: UserWarning: 78.9% of the points cannot be placed; you may want to decrease the size of the markers or use stripplot.\n",
            "  warnings.warn(msg, UserWarning)\n",
            "/usr/local/lib/python3.8/dist-packages/seaborn/categorical.py:1296: UserWarning: 75.8% of the points cannot be placed; you may want to decrease the size of the markers or use stripplot.\n",
            "  warnings.warn(msg, UserWarning)\n",
            "/usr/local/lib/python3.8/dist-packages/seaborn/categorical.py:1296: UserWarning: 73.4% of the points cannot be placed; you may want to decrease the size of the markers or use stripplot.\n",
            "  warnings.warn(msg, UserWarning)\n",
            "/usr/local/lib/python3.8/dist-packages/seaborn/categorical.py:1296: UserWarning: 72.7% of the points cannot be placed; you may want to decrease the size of the markers or use stripplot.\n",
            "  warnings.warn(msg, UserWarning)\n"
          ]
        },
        {
          "output_type": "display_data",
          "data": {
            "text/plain": [
              "<Figure size 432x288 with 1 Axes>"
            ],
            "image/png": "[encoded data removed]"
          },
          "metadata": {
            "needs_background": "light"
          }
        }
      ]
    },
    {
      "cell_type": "code",
      "source": [
        "\n",
        "# stats f_oneway functions takes the groups as input and returns ANOVA F and p value\n",
        "fvalue, pvalue = stats.f_oneway(df['A1'], df['A2'], df['A3'], df['A4'], df['A5'], df['A6'], df['A7'], df['A8'], df['A9'])\n",
        "print(fvalue, pvalue)\n"
      ],
      "metadata": {
        "id": "qJ7i9gfBJGtn",
        "outputId": "b051f0da-40af-488e-eacc-0482757629b0",
        "colab": {
          "base_uri": "https://localhost:8080/"
        }
      },
      "execution_count": 44,
      "outputs": [
        {
          "output_type": "stream",
          "name": "stdout",
          "text": [
            "19.68818482705646 5.271337229548088e-28\n"
          ]
        }
      ]
    },
    {
      "cell_type": "code",
      "source": [
        "print(df_melt)"
      ],
      "metadata": {
        "id": "rFeXAglXL9xn",
        "outputId": "f1ad3f89-8ca3-48f1-aaca-9befc26ebd5b",
        "colab": {
          "base_uri": "https://localhost:8080/"
        }
      },
      "execution_count": 69,
      "outputs": [
        {
          "output_type": "stream",
          "name": "stdout",
          "text": [
            "      index variavel  valor\n",
            "0         2       A1      4\n",
            "1        18       A1      3\n",
            "2        14       A1      5\n",
            "3        19       A1      4\n",
            "4         6       A1      4\n",
            "...     ...      ...    ...\n",
            "2939     13      A23      4\n",
            "2940     14      A23      2\n",
            "2941     14      A23      3\n",
            "2942      4      A23      3\n",
            "2943     14      A23      5\n",
            "\n",
            "[2944 rows x 3 columns]\n"
          ]
        }
      ]
    },
    {
      "cell_type": "code",
      "source": [
        "#Anova using pingouin\n",
        "\n",
        "aov = pg.anova(dv='value', between='treatments', data=df_melt, detailed=True)\n",
        "aov.round(3)\n",
        "\n",
        "# for i in range(1, 24):\n",
        "#     print(f\"Anova: tempo ~ A{i}\")\n",
        "#     aov = pg.anova(dv='area', between=f'A{i}', data=df, detailed=True)\n",
        "#     print(aov.round(3))"
      ],
      "metadata": {
        "id": "VeM3e9-bKKiS",
        "outputId": "9058ead0-ac6b-4b76-de3f-65e2c9cce705",
        "colab": {
          "base_uri": "https://localhost:8080/",
          "height": 112
        }
      },
      "execution_count": 73,
      "outputs": [
        {
          "output_type": "execute_result",
          "data": {
            "text/plain": [
              "       Source        SS    DF      MS       F  p-unc    np2\n",
              "0  treatments   418.726    22  19.033  19.726    0.0  0.129\n",
              "1      Within  2818.312  2921   0.965     NaN    NaN    NaN"
            ],
            "text/html": [
              "\n",
              "  <div id=\"df-5aff137f-64f9-49e2-a99c-b1d587741f02\">\n",
              "    <div class=\"colab-df-container\">\n",
              "      <div>\n",
              "<style scoped>\n",
              "    .dataframe tbody tr th:only-of-type {\n",
              "        vertical-align: middle;\n",
              "    }\n",
              "\n",
              "    .dataframe tbody tr th {\n",
              "        vertical-align: top;\n",
              "    }\n",
              "\n",
              "    .dataframe thead th {\n",
              "        text-align: right;\n",
              "    }\n",
              "</style>\n",
              "<table border=\"1\" class=\"dataframe\">\n",
              "  <thead>\n",
              "    <tr style=\"text-align: right;\">\n",
              "      <th></th>\n",
              "      <th>Source</th>\n",
              "      <th>SS</th>\n",
              "      <th>DF</th>\n",
              "      <th>MS</th>\n",
              "      <th>F</th>\n",
              "      <th>p-unc</th>\n",
              "      <th>np2</th>\n",
              "    </tr>\n",
              "  </thead>\n",
              "  <tbody>\n",
              "    <tr>\n",
              "      <th>0</th>\n",
              "      <td>treatments</td>\n",
              "      <td>418.726</td>\n",
              "      <td>22</td>\n",
              "      <td>19.033</td>\n",
              "      <td>19.726</td>\n",
              "      <td>0.0</td>\n",
              "      <td>0.129</td>\n",
              "    </tr>\n",
              "    <tr>\n",
              "      <th>1</th>\n",
              "      <td>Within</td>\n",
              "      <td>2818.312</td>\n",
              "      <td>2921</td>\n",
              "      <td>0.965</td>\n",
              "      <td>NaN</td>\n",
              "      <td>NaN</td>\n",
              "      <td>NaN</td>\n",
              "    </tr>\n",
              "  </tbody>\n",
              "</table>\n",
              "</div>\n",
              "      <button class=\"colab-df-convert\" onclick=\"convertToInteractive('df-5aff137f-64f9-49e2-a99c-b1d587741f02')\"\n",
              "              title=\"Convert this dataframe to an interactive table.\"\n",
              "              style=\"display:none;\">\n",
              "        \n",
              "  <svg xmlns=\"http://www.w3.org/2000/svg\" height=\"24px\"viewBox=\"0 0 24 24\"\n",
              "       width=\"24px\">\n",
              "    <path d=\"M0 0h24v24H0V0z\" fill=\"none\"/>\n",
              "    <path d=\"M18.56 5.44l.94 2.06.94-2.06 2.06-.94-2.06-.94-.94-2.06-.94 2.06-2.06.94zm-11 1L8.5 8.5l.94-2.06 2.06-.94-2.06-.94L8.5 2.5l-.94 2.06-2.06.94zm10 10l.94 2.06.94-2.06 2.06-.94-2.06-.94-.94-2.06-.94 2.06-2.06.94z\"/><path d=\"M17.41 7.96l-1.37-1.37c-.4-.4-.92-.59-1.43-.59-.52 0-1.04.2-1.43.59L10.3 9.45l-7.72 7.72c-.78.78-.78 2.05 0 2.83L4 21.41c.39.39.9.59 1.41.59.51 0 1.02-.2 1.41-.59l7.78-7.78 2.81-2.81c.8-.78.8-2.07 0-2.86zM5.41 20L4 18.59l7.72-7.72 1.47 1.35L5.41 20z\"/>\n",
              "  </svg>\n",
              "      </button>\n",
              "      \n",
              "  <style>\n",
              "    .colab-df-container {\n",
              "      display:flex;\n",
              "      flex-wrap:wrap;\n",
              "      gap: 12px;\n",
              "    }\n",
              "\n",
              "    .colab-df-convert {\n",
              "      background-color: #E8F0FE;\n",
              "      border: none;\n",
              "      border-radius: 50%;\n",
              "      cursor: pointer;\n",
              "      display: none;\n",
              "      fill: #1967D2;\n",
              "      height: 32px;\n",
              "      padding: 0 0 0 0;\n",
              "      width: 32px;\n",
              "    }\n",
              "\n",
              "    .colab-df-convert:hover {\n",
              "      background-color: #E2EBFA;\n",
              "      box-shadow: 0px 1px 2px rgba(60, 64, 67, 0.3), 0px 1px 3px 1px rgba(60, 64, 67, 0.15);\n",
              "      fill: #174EA6;\n",
              "    }\n",
              "\n",
              "    [theme=dark] .colab-df-convert {\n",
              "      background-color: #3B4455;\n",
              "      fill: #D2E3FC;\n",
              "    }\n",
              "\n",
              "    [theme=dark] .colab-df-convert:hover {\n",
              "      background-color: #434B5C;\n",
              "      box-shadow: 0px 1px 3px 1px rgba(0, 0, 0, 0.15);\n",
              "      filter: drop-shadow(0px 1px 2px rgba(0, 0, 0, 0.3));\n",
              "      fill: #FFFFFF;\n",
              "    }\n",
              "  </style>\n",
              "\n",
              "      <script>\n",
              "        const buttonEl =\n",
              "          document.querySelector('#df-5aff137f-64f9-49e2-a99c-b1d587741f02 button.colab-df-convert');\n",
              "        buttonEl.style.display =\n",
              "          google.colab.kernel.accessAllowed ? 'block' : 'none';\n",
              "\n",
              "        async function convertToInteractive(key) {\n",
              "          const element = document.querySelector('#df-5aff137f-64f9-49e2-a99c-b1d587741f02');\n",
              "          const dataTable =\n",
              "            await google.colab.kernel.invokeFunction('convertToInteractive',\n",
              "                                                     [key], {});\n",
              "          if (!dataTable) return;\n",
              "\n",
              "          const docLinkHtml = 'Like what you see? Visit the ' +\n",
              "            '<a target=\"_blank\" href=https://colab.research.google.com/notebooks/data_table.ipynb>data table notebook</a>'\n",
              "            + ' to learn more about interactive tables.';\n",
              "          element.innerHTML = '';\n",
              "          dataTable['output_type'] = 'display_data';\n",
              "          await google.colab.output.renderOutput(dataTable, element);\n",
              "          const docLink = document.createElement('div');\n",
              "          docLink.innerHTML = docLinkHtml;\n",
              "          element.appendChild(docLink);\n",
              "        }\n",
              "      </script>\n",
              "    </div>\n",
              "  </div>\n",
              "  "
            ]
          },
          "metadata": {},
          "execution_count": 73
        }
      ]
    },
    {
      "cell_type": "code",
      "source": [
        "# perform multiple pairwise comparison (Tukey's HSD)\n",
        "# unequal sample size data, tukey_hsd uses Tukey-Kramer test\n",
        "res = stat()\n",
        "res.tukey_hsd(df=df_melt, res_var='value', xfac_var='treatments', anova_model='value ~ C(treatments)')\n",
        "res.tukey_summary\n",
        "\n",
        "# Note: p-value 0.001 from tukey_hsd output should be interpreted as <=0.001"
      ],
      "metadata": {
        "id": "34114lEaPzFZ",
        "outputId": "4e2164a3-57fc-4666-efa9-599c91f24e1f",
        "colab": {
          "base_uri": "https://localhost:8080/",
          "height": 478
        }
      },
      "execution_count": 74,
      "outputs": [
        {
          "output_type": "stream",
          "name": "stderr",
          "text": [
            "/usr/local/lib/python3.8/dist-packages/bioinfokit/analys.py:402: FutureWarning: Dropping of nuisance columns in DataFrame reductions (with 'numeric_only=None') is deprecated; in a future version this will raise TypeError.  Select only valid columns before calling the reduction.\n",
            "  mult_group[ele] = df[df[xfac_var] == ele].mean().loc[res_var]\n"
          ]
        },
        {
          "output_type": "execute_result",
          "data": {
            "text/plain": [
              "    group1 group2      Diff     Lower     Upper   q-value   p-value\n",
              "0       A1     A2  0.218750 -0.225637  0.663137  2.519557  0.900000\n",
              "1       A1     A3  0.726562  0.282176  1.170949  8.368530  0.001000\n",
              "2       A1     A4  0.171875 -0.272512  0.616262  1.979652  0.900000\n",
              "3       A1     A5  0.015625 -0.428762  0.460012  0.179968  0.900000\n",
              "4       A1     A6  0.406250 -0.038137  0.850637  4.679178  0.128108\n",
              "..     ...    ...       ...       ...       ...       ...       ...\n",
              "248    A20    A22  0.695312  0.250926  1.139699  8.008593  0.001000\n",
              "249    A20    A23  0.695312  0.250926  1.139699  8.008593  0.001000\n",
              "250    A21    A22  0.195312 -0.249074  0.639699  2.249605  0.900000\n",
              "251    A21    A23  0.195312 -0.249074  0.639699  2.249605  0.900000\n",
              "252    A22    A23  0.000000 -0.444387  0.444387  0.000000  0.900000\n",
              "\n",
              "[253 rows x 7 columns]"
            ],
            "text/html": [
              "\n",
              "  <div id=\"df-9a181759-5fc6-40e6-8e35-c9dac6a182e4\">\n",
              "    <div class=\"colab-df-container\">\n",
              "      <div>\n",
              "<style scoped>\n",
              "    .dataframe tbody tr th:only-of-type {\n",
              "        vertical-align: middle;\n",
              "    }\n",
              "\n",
              "    .dataframe tbody tr th {\n",
              "        vertical-align: top;\n",
              "    }\n",
              "\n",
              "    .dataframe thead th {\n",
              "        text-align: right;\n",
              "    }\n",
              "</style>\n",
              "<table border=\"1\" class=\"dataframe\">\n",
              "  <thead>\n",
              "    <tr style=\"text-align: right;\">\n",
              "      <th></th>\n",
              "      <th>group1</th>\n",
              "      <th>group2</th>\n",
              "      <th>Diff</th>\n",
              "      <th>Lower</th>\n",
              "      <th>Upper</th>\n",
              "      <th>q-value</th>\n",
              "      <th>p-value</th>\n",
              "    </tr>\n",
              "  </thead>\n",
              "  <tbody>\n",
              "    <tr>\n",
              "      <th>0</th>\n",
              "      <td>A1</td>\n",
              "      <td>A2</td>\n",
              "      <td>0.218750</td>\n",
              "      <td>-0.225637</td>\n",
              "      <td>0.663137</td>\n",
              "      <td>2.519557</td>\n",
              "      <td>0.900000</td>\n",
              "    </tr>\n",
              "    <tr>\n",
              "      <th>1</th>\n",
              "      <td>A1</td>\n",
              "      <td>A3</td>\n",
              "      <td>0.726562</td>\n",
              "      <td>0.282176</td>\n",
              "      <td>1.170949</td>\n",
              "      <td>8.368530</td>\n",
              "      <td>0.001000</td>\n",
              "    </tr>\n",
              "    <tr>\n",
              "      <th>2</th>\n",
              "      <td>A1</td>\n",
              "      <td>A4</td>\n",
              "      <td>0.171875</td>\n",
              "      <td>-0.272512</td>\n",
              "      <td>0.616262</td>\n",
              "      <td>1.979652</td>\n",
              "      <td>0.900000</td>\n",
              "    </tr>\n",
              "    <tr>\n",
              "      <th>3</th>\n",
              "      <td>A1</td>\n",
              "      <td>A5</td>\n",
              "      <td>0.015625</td>\n",
              "      <td>-0.428762</td>\n",
              "      <td>0.460012</td>\n",
              "      <td>0.179968</td>\n",
              "      <td>0.900000</td>\n",
              "    </tr>\n",
              "    <tr>\n",
              "      <th>4</th>\n",
              "      <td>A1</td>\n",
              "      <td>A6</td>\n",
              "      <td>0.406250</td>\n",
              "      <td>-0.038137</td>\n",
              "      <td>0.850637</td>\n",
              "      <td>4.679178</td>\n",
              "      <td>0.128108</td>\n",
              "    </tr>\n",
              "    <tr>\n",
              "      <th>...</th>\n",
              "      <td>...</td>\n",
              "      <td>...</td>\n",
              "      <td>...</td>\n",
              "      <td>...</td>\n",
              "      <td>...</td>\n",
              "      <td>...</td>\n",
              "      <td>...</td>\n",
              "    </tr>\n",
              "    <tr>\n",
              "      <th>248</th>\n",
              "      <td>A20</td>\n",
              "      <td>A22</td>\n",
              "      <td>0.695312</td>\n",
              "      <td>0.250926</td>\n",
              "      <td>1.139699</td>\n",
              "      <td>8.008593</td>\n",
              "      <td>0.001000</td>\n",
              "    </tr>\n",
              "    <tr>\n",
              "      <th>249</th>\n",
              "      <td>A20</td>\n",
              "      <td>A23</td>\n",
              "      <td>0.695312</td>\n",
              "      <td>0.250926</td>\n",
              "      <td>1.139699</td>\n",
              "      <td>8.008593</td>\n",
              "      <td>0.001000</td>\n",
              "    </tr>\n",
              "    <tr>\n",
              "      <th>250</th>\n",
              "      <td>A21</td>\n",
              "      <td>A22</td>\n",
              "      <td>0.195312</td>\n",
              "      <td>-0.249074</td>\n",
              "      <td>0.639699</td>\n",
              "      <td>2.249605</td>\n",
              "      <td>0.900000</td>\n",
              "    </tr>\n",
              "    <tr>\n",
              "      <th>251</th>\n",
              "      <td>A21</td>\n",
              "      <td>A23</td>\n",
              "      <td>0.195312</td>\n",
              "      <td>-0.249074</td>\n",
              "      <td>0.639699</td>\n",
              "      <td>2.249605</td>\n",
              "      <td>0.900000</td>\n",
              "    </tr>\n",
              "    <tr>\n",
              "      <th>252</th>\n",
              "      <td>A22</td>\n",
              "      <td>A23</td>\n",
              "      <td>0.000000</td>\n",
              "      <td>-0.444387</td>\n",
              "      <td>0.444387</td>\n",
              "      <td>0.000000</td>\n",
              "      <td>0.900000</td>\n",
              "    </tr>\n",
              "  </tbody>\n",
              "</table>\n",
              "<p>253 rows × 7 columns</p>\n",
              "</div>\n",
              "      <button class=\"colab-df-convert\" onclick=\"convertToInteractive('df-9a181759-5fc6-40e6-8e35-c9dac6a182e4')\"\n",
              "              title=\"Convert this dataframe to an interactive table.\"\n",
              "              style=\"display:none;\">\n",
              "        \n",
              "  <svg xmlns=\"http://www.w3.org/2000/svg\" height=\"24px\"viewBox=\"0 0 24 24\"\n",
              "       width=\"24px\">\n",
              "    <path d=\"M0 0h24v24H0V0z\" fill=\"none\"/>\n",
              "    <path d=\"M18.56 5.44l.94 2.06.94-2.06 2.06-.94-2.06-.94-.94-2.06-.94 2.06-2.06.94zm-11 1L8.5 8.5l.94-2.06 2.06-.94-2.06-.94L8.5 2.5l-.94 2.06-2.06.94zm10 10l.94 2.06.94-2.06 2.06-.94-2.06-.94-.94-2.06-.94 2.06-2.06.94z\"/><path d=\"M17.41 7.96l-1.37-1.37c-.4-.4-.92-.59-1.43-.59-.52 0-1.04.2-1.43.59L10.3 9.45l-7.72 7.72c-.78.78-.78 2.05 0 2.83L4 21.41c.39.39.9.59 1.41.59.51 0 1.02-.2 1.41-.59l7.78-7.78 2.81-2.81c.8-.78.8-2.07 0-2.86zM5.41 20L4 18.59l7.72-7.72 1.47 1.35L5.41 20z\"/>\n",
              "  </svg>\n",
              "      </button>\n",
              "      \n",
              "  <style>\n",
              "    .colab-df-container {\n",
              "      display:flex;\n",
              "      flex-wrap:wrap;\n",
              "      gap: 12px;\n",
              "    }\n",
              "\n",
              "    .colab-df-convert {\n",
              "      background-color: #E8F0FE;\n",
              "      border: none;\n",
              "      border-radius: 50%;\n",
              "      cursor: pointer;\n",
              "      display: none;\n",
              "      fill: #1967D2;\n",
              "      height: 32px;\n",
              "      padding: 0 0 0 0;\n",
              "      width: 32px;\n",
              "    }\n",
              "\n",
              "    .colab-df-convert:hover {\n",
              "      background-color: #E2EBFA;\n",
              "      box-shadow: 0px 1px 2px rgba(60, 64, 67, 0.3), 0px 1px 3px 1px rgba(60, 64, 67, 0.15);\n",
              "      fill: #174EA6;\n",
              "    }\n",
              "\n",
              "    [theme=dark] .colab-df-convert {\n",
              "      background-color: #3B4455;\n",
              "      fill: #D2E3FC;\n",
              "    }\n",
              "\n",
              "    [theme=dark] .colab-df-convert:hover {\n",
              "      background-color: #434B5C;\n",
              "      box-shadow: 0px 1px 3px 1px rgba(0, 0, 0, 0.15);\n",
              "      filter: drop-shadow(0px 1px 2px rgba(0, 0, 0, 0.3));\n",
              "      fill: #FFFFFF;\n",
              "    }\n",
              "  </style>\n",
              "\n",
              "      <script>\n",
              "        const buttonEl =\n",
              "          document.querySelector('#df-9a181759-5fc6-40e6-8e35-c9dac6a182e4 button.colab-df-convert');\n",
              "        buttonEl.style.display =\n",
              "          google.colab.kernel.accessAllowed ? 'block' : 'none';\n",
              "\n",
              "        async function convertToInteractive(key) {\n",
              "          const element = document.querySelector('#df-9a181759-5fc6-40e6-8e35-c9dac6a182e4');\n",
              "          const dataTable =\n",
              "            await google.colab.kernel.invokeFunction('convertToInteractive',\n",
              "                                                     [key], {});\n",
              "          if (!dataTable) return;\n",
              "\n",
              "          const docLinkHtml = 'Like what you see? Visit the ' +\n",
              "            '<a target=\"_blank\" href=https://colab.research.google.com/notebooks/data_table.ipynb>data table notebook</a>'\n",
              "            + ' to learn more about interactive tables.';\n",
              "          element.innerHTML = '';\n",
              "          dataTable['output_type'] = 'display_data';\n",
              "          await google.colab.output.renderOutput(dataTable, element);\n",
              "          const docLink = document.createElement('div');\n",
              "          docLink.innerHTML = docLinkHtml;\n",
              "          element.appendChild(docLink);\n",
              "        }\n",
              "      </script>\n",
              "    </div>\n",
              "  </div>\n",
              "  "
            ]
          },
          "metadata": {},
          "execution_count": 74
        }
      ]
    },
    {
      "cell_type": "code",
      "source": [
        "# To check the assumption of normality\n",
        "\n",
        "fig, ax = plt.subplots(1, 2, figsize=(12, 7))\n",
        "sns.histplot(res.anova_std_residuals,kde=True, color ='blue',ax=ax[0])\n",
        "pg.qqplot(res.anova_std_residuals, dist='norm', ax=ax[1])"
      ],
      "metadata": {
        "id": "Pyhr0eq4Rmtv",
        "outputId": "a59cec1e-354c-4ff0-dd68-b6a64c1d014b",
        "colab": {
          "base_uri": "https://localhost:8080/",
          "height": 445
        }
      },
      "execution_count": 75,
      "outputs": [
        {
          "output_type": "execute_result",
          "data": {
            "text/plain": [
              "<AxesSubplot:xlabel='Theoretical quantiles', ylabel='Ordered quantiles'>"
            ]
          },
          "metadata": {},
          "execution_count": 75
        },
        {
          "output_type": "display_data",
          "data": {
            "text/plain": [
              "<Figure size 864x504 with 2 Axes>"
            ],
            "image/png": "[encoded data removed]"
          },
          "metadata": {
            "needs_background": "light"
          }
        }
      ]
    },
    {
      "cell_type": "code",
      "source": [
        "# Statistical normality test (D Agostino K square test)\n",
        "\n",
        "pg.normality(res.anova_std_residuals, method='normaltest')"
      ],
      "metadata": {
        "id": "FhNPoI0eRv-l",
        "outputId": "9001593c-74f9-4c4d-f25c-ef322445d8ce",
        "colab": {
          "base_uri": "https://localhost:8080/",
          "height": 81
        }
      },
      "execution_count": 76,
      "outputs": [
        {
          "output_type": "execute_result",
          "data": {
            "text/plain": [
              "            W          pval  normal\n",
              "0  101.698058  8.251775e-23   False"
            ],
            "text/html": [
              "\n",
              "  <div id=\"df-2083f082-039c-4914-aee3-3a70bee03d1d\">\n",
              "    <div class=\"colab-df-container\">\n",
              "      <div>\n",
              "<style scoped>\n",
              "    .dataframe tbody tr th:only-of-type {\n",
              "        vertical-align: middle;\n",
              "    }\n",
              "\n",
              "    .dataframe tbody tr th {\n",
              "        vertical-align: top;\n",
              "    }\n",
              "\n",
              "    .dataframe thead th {\n",
              "        text-align: right;\n",
              "    }\n",
              "</style>\n",
              "<table border=\"1\" class=\"dataframe\">\n",
              "  <thead>\n",
              "    <tr style=\"text-align: right;\">\n",
              "      <th></th>\n",
              "      <th>W</th>\n",
              "      <th>pval</th>\n",
              "      <th>normal</th>\n",
              "    </tr>\n",
              "  </thead>\n",
              "  <tbody>\n",
              "    <tr>\n",
              "      <th>0</th>\n",
              "      <td>101.698058</td>\n",
              "      <td>8.251775e-23</td>\n",
              "      <td>False</td>\n",
              "    </tr>\n",
              "  </tbody>\n",
              "</table>\n",
              "</div>\n",
              "      <button class=\"colab-df-convert\" onclick=\"convertToInteractive('df-2083f082-039c-4914-aee3-3a70bee03d1d')\"\n",
              "              title=\"Convert this dataframe to an interactive table.\"\n",
              "              style=\"display:none;\">\n",
              "        \n",
              "  <svg xmlns=\"http://www.w3.org/2000/svg\" height=\"24px\"viewBox=\"0 0 24 24\"\n",
              "       width=\"24px\">\n",
              "    <path d=\"M0 0h24v24H0V0z\" fill=\"none\"/>\n",
              "    <path d=\"M18.56 5.44l.94 2.06.94-2.06 2.06-.94-2.06-.94-.94-2.06-.94 2.06-2.06.94zm-11 1L8.5 8.5l.94-2.06 2.06-.94-2.06-.94L8.5 2.5l-.94 2.06-2.06.94zm10 10l.94 2.06.94-2.06 2.06-.94-2.06-.94-.94-2.06-.94 2.06-2.06.94z\"/><path d=\"M17.41 7.96l-1.37-1.37c-.4-.4-.92-.59-1.43-.59-.52 0-1.04.2-1.43.59L10.3 9.45l-7.72 7.72c-.78.78-.78 2.05 0 2.83L4 21.41c.39.39.9.59 1.41.59.51 0 1.02-.2 1.41-.59l7.78-7.78 2.81-2.81c.8-.78.8-2.07 0-2.86zM5.41 20L4 18.59l7.72-7.72 1.47 1.35L5.41 20z\"/>\n",
              "  </svg>\n",
              "      </button>\n",
              "      \n",
              "  <style>\n",
              "    .colab-df-container {\n",
              "      display:flex;\n",
              "      flex-wrap:wrap;\n",
              "      gap: 12px;\n",
              "    }\n",
              "\n",
              "    .colab-df-convert {\n",
              "      background-color: #E8F0FE;\n",
              "      border: none;\n",
              "      border-radius: 50%;\n",
              "      cursor: pointer;\n",
              "      display: none;\n",
              "      fill: #1967D2;\n",
              "      height: 32px;\n",
              "      padding: 0 0 0 0;\n",
              "      width: 32px;\n",
              "    }\n",
              "\n",
              "    .colab-df-convert:hover {\n",
              "      background-color: #E2EBFA;\n",
              "      box-shadow: 0px 1px 2px rgba(60, 64, 67, 0.3), 0px 1px 3px 1px rgba(60, 64, 67, 0.15);\n",
              "      fill: #174EA6;\n",
              "    }\n",
              "\n",
              "    [theme=dark] .colab-df-convert {\n",
              "      background-color: #3B4455;\n",
              "      fill: #D2E3FC;\n",
              "    }\n",
              "\n",
              "    [theme=dark] .colab-df-convert:hover {\n",
              "      background-color: #434B5C;\n",
              "      box-shadow: 0px 1px 3px 1px rgba(0, 0, 0, 0.15);\n",
              "      filter: drop-shadow(0px 1px 2px rgba(0, 0, 0, 0.3));\n",
              "      fill: #FFFFFF;\n",
              "    }\n",
              "  </style>\n",
              "\n",
              "      <script>\n",
              "        const buttonEl =\n",
              "          document.querySelector('#df-2083f082-039c-4914-aee3-3a70bee03d1d button.colab-df-convert');\n",
              "        buttonEl.style.display =\n",
              "          google.colab.kernel.accessAllowed ? 'block' : 'none';\n",
              "\n",
              "        async function convertToInteractive(key) {\n",
              "          const element = document.querySelector('#df-2083f082-039c-4914-aee3-3a70bee03d1d');\n",
              "          const dataTable =\n",
              "            await google.colab.kernel.invokeFunction('convertToInteractive',\n",
              "                                                     [key], {});\n",
              "          if (!dataTable) return;\n",
              "\n",
              "          const docLinkHtml = 'Like what you see? Visit the ' +\n",
              "            '<a target=\"_blank\" href=https://colab.research.google.com/notebooks/data_table.ipynb>data table notebook</a>'\n",
              "            + ' to learn more about interactive tables.';\n",
              "          element.innerHTML = '';\n",
              "          dataTable['output_type'] = 'display_data';\n",
              "          await google.colab.output.renderOutput(dataTable, element);\n",
              "          const docLink = document.createElement('div');\n",
              "          docLink.innerHTML = docLinkHtml;\n",
              "          element.appendChild(docLink);\n",
              "        }\n",
              "      </script>\n",
              "    </div>\n",
              "  </div>\n",
              "  "
            ]
          },
          "metadata": {},
          "execution_count": 76
        }
      ]
    },
    {
      "cell_type": "code",
      "source": [
        "# To check the assumption on homogenetiy of variance\n",
        "\n",
        "res = stat()\n",
        "res.levene(df=df_melt, res_var='value', xfac_var='treatments')\n",
        "res.levene_summary"
      ],
      "metadata": {
        "id": "sRTpyMk2Rv3G",
        "outputId": "fc99d742-04d6-4b50-d4f2-9a475a564f6a",
        "colab": {
          "base_uri": "https://localhost:8080/",
          "height": 143
        }
      },
      "execution_count": 78,
      "outputs": [
        {
          "output_type": "execute_result",
          "data": {
            "text/plain": [
              "                 Parameter    Value\n",
              "0      Test statistics (W)  15.4379\n",
              "1  Degrees of freedom (Df)  22.0000\n",
              "2                  p value   0.0000"
            ],
            "text/html": [
              "\n",
              "  <div id=\"df-c15642ca-edfa-4408-a4a0-95d356bf8661\">\n",
              "    <div class=\"colab-df-container\">\n",
              "      <div>\n",
              "<style scoped>\n",
              "    .dataframe tbody tr th:only-of-type {\n",
              "        vertical-align: middle;\n",
              "    }\n",
              "\n",
              "    .dataframe tbody tr th {\n",
              "        vertical-align: top;\n",
              "    }\n",
              "\n",
              "    .dataframe thead th {\n",
              "        text-align: right;\n",
              "    }\n",
              "</style>\n",
              "<table border=\"1\" class=\"dataframe\">\n",
              "  <thead>\n",
              "    <tr style=\"text-align: right;\">\n",
              "      <th></th>\n",
              "      <th>Parameter</th>\n",
              "      <th>Value</th>\n",
              "    </tr>\n",
              "  </thead>\n",
              "  <tbody>\n",
              "    <tr>\n",
              "      <th>0</th>\n",
              "      <td>Test statistics (W)</td>\n",
              "      <td>15.4379</td>\n",
              "    </tr>\n",
              "    <tr>\n",
              "      <th>1</th>\n",
              "      <td>Degrees of freedom (Df)</td>\n",
              "      <td>22.0000</td>\n",
              "    </tr>\n",
              "    <tr>\n",
              "      <th>2</th>\n",
              "      <td>p value</td>\n",
              "      <td>0.0000</td>\n",
              "    </tr>\n",
              "  </tbody>\n",
              "</table>\n",
              "</div>\n",
              "      <button class=\"colab-df-convert\" onclick=\"convertToInteractive('df-c15642ca-edfa-4408-a4a0-95d356bf8661')\"\n",
              "              title=\"Convert this dataframe to an interactive table.\"\n",
              "              style=\"display:none;\">\n",
              "        \n",
              "  <svg xmlns=\"http://www.w3.org/2000/svg\" height=\"24px\"viewBox=\"0 0 24 24\"\n",
              "       width=\"24px\">\n",
              "    <path d=\"M0 0h24v24H0V0z\" fill=\"none\"/>\n",
              "    <path d=\"M18.56 5.44l.94 2.06.94-2.06 2.06-.94-2.06-.94-.94-2.06-.94 2.06-2.06.94zm-11 1L8.5 8.5l.94-2.06 2.06-.94-2.06-.94L8.5 2.5l-.94 2.06-2.06.94zm10 10l.94 2.06.94-2.06 2.06-.94-2.06-.94-.94-2.06-.94 2.06-2.06.94z\"/><path d=\"M17.41 7.96l-1.37-1.37c-.4-.4-.92-.59-1.43-.59-.52 0-1.04.2-1.43.59L10.3 9.45l-7.72 7.72c-.78.78-.78 2.05 0 2.83L4 21.41c.39.39.9.59 1.41.59.51 0 1.02-.2 1.41-.59l7.78-7.78 2.81-2.81c.8-.78.8-2.07 0-2.86zM5.41 20L4 18.59l7.72-7.72 1.47 1.35L5.41 20z\"/>\n",
              "  </svg>\n",
              "      </button>\n",
              "      \n",
              "  <style>\n",
              "    .colab-df-container {\n",
              "      display:flex;\n",
              "      flex-wrap:wrap;\n",
              "      gap: 12px;\n",
              "    }\n",
              "\n",
              "    .colab-df-convert {\n",
              "      background-color: #E8F0FE;\n",
              "      border: none;\n",
              "      border-radius: 50%;\n",
              "      cursor: pointer;\n",
              "      display: none;\n",
              "      fill: #1967D2;\n",
              "      height: 32px;\n",
              "      padding: 0 0 0 0;\n",
              "      width: 32px;\n",
              "    }\n",
              "\n",
              "    .colab-df-convert:hover {\n",
              "      background-color: #E2EBFA;\n",
              "      box-shadow: 0px 1px 2px rgba(60, 64, 67, 0.3), 0px 1px 3px 1px rgba(60, 64, 67, 0.15);\n",
              "      fill: #174EA6;\n",
              "    }\n",
              "\n",
              "    [theme=dark] .colab-df-convert {\n",
              "      background-color: #3B4455;\n",
              "      fill: #D2E3FC;\n",
              "    }\n",
              "\n",
              "    [theme=dark] .colab-df-convert:hover {\n",
              "      background-color: #434B5C;\n",
              "      box-shadow: 0px 1px 3px 1px rgba(0, 0, 0, 0.15);\n",
              "      filter: drop-shadow(0px 1px 2px rgba(0, 0, 0, 0.3));\n",
              "      fill: #FFFFFF;\n",
              "    }\n",
              "  </style>\n",
              "\n",
              "      <script>\n",
              "        const buttonEl =\n",
              "          document.querySelector('#df-c15642ca-edfa-4408-a4a0-95d356bf8661 button.colab-df-convert');\n",
              "        buttonEl.style.display =\n",
              "          google.colab.kernel.accessAllowed ? 'block' : 'none';\n",
              "\n",
              "        async function convertToInteractive(key) {\n",
              "          const element = document.querySelector('#df-c15642ca-edfa-4408-a4a0-95d356bf8661');\n",
              "          const dataTable =\n",
              "            await google.colab.kernel.invokeFunction('convertToInteractive',\n",
              "                                                     [key], {});\n",
              "          if (!dataTable) return;\n",
              "\n",
              "          const docLinkHtml = 'Like what you see? Visit the ' +\n",
              "            '<a target=\"_blank\" href=https://colab.research.google.com/notebooks/data_table.ipynb>data table notebook</a>'\n",
              "            + ' to learn more about interactive tables.';\n",
              "          element.innerHTML = '';\n",
              "          dataTable['output_type'] = 'display_data';\n",
              "          await google.colab.output.renderOutput(dataTable, element);\n",
              "          const docLink = document.createElement('div');\n",
              "          docLink.innerHTML = docLinkHtml;\n",
              "          element.appendChild(docLink);\n",
              "        }\n",
              "      </script>\n",
              "    </div>\n",
              "  </div>\n",
              "  "
            ]
          },
          "metadata": {},
          "execution_count": 78
        }
      ]
    }
  ],
  "metadata": {
    "colab": {
      "provenance": [],
      "authorship_tag": "ABX9TyNKVy6OGc2DBOVG7CAEfZLc",
      "include_colab_link": true
    },
    "kernelspec": {
      "display_name": "Python 3",
      "name": "python3"
    },
    "language_info": {
      "name": "python"
    }
  },
  "nbformat": 4,
  "nbformat_minor": 0
}