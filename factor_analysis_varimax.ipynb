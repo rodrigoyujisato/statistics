{
  "cells": [
    {
      "cell_type": "markdown",
      "metadata": {
        "id": "view-in-github",
        "colab_type": "text"
      },
      "source": [
        "<a href=\"https://colab.research.google.com/github/rodrigoyujisato/statistics/blob/main/factor_analysis_varimax.ipynb\" target=\"_parent\"><img src=\"https://colab.research.google.com/assets/colab-badge.svg\" alt=\"Open In Colab\"/></a>"
      ]
    },
    {
      "cell_type": "markdown",
      "source": [
        "https://www.datacamp.com/tutorial/introduction-factor-analysis"
      ],
      "metadata": {
        "id": "ZHjapokvPb52"
      }
    },
    {
      "cell_type": "code",
      "execution_count": 88,
      "metadata": {
        "colab": {
          "base_uri": "https://localhost:8080/"
        },
        "id": "SyRsXZ_MhPzY",
        "outputId": "721b8849-35d1-419a-ae6e-c16948ed48d2"
      },
      "outputs": [
        {
          "output_type": "stream",
          "name": "stdout",
          "text": [
            "Looking in indexes: https://pypi.org/simple, https://us-python.pkg.dev/colab-wheels/public/simple/\n",
            "Requirement already satisfied: factor_analyzer in /usr/local/lib/python3.8/dist-packages (0.4.1)\n",
            "Requirement already satisfied: numpy in /usr/local/lib/python3.8/dist-packages (from factor_analyzer) (1.22.4)\n",
            "Requirement already satisfied: pandas in /usr/local/lib/python3.8/dist-packages (from factor_analyzer) (1.3.5)\n",
            "Requirement already satisfied: scipy in /usr/local/lib/python3.8/dist-packages (from factor_analyzer) (1.10.1)\n",
            "Requirement already satisfied: pre-commit in /usr/local/lib/python3.8/dist-packages (from factor_analyzer) (3.1.1)\n",
            "Requirement already satisfied: scikit-learn in /usr/local/lib/python3.8/dist-packages (from factor_analyzer) (1.2.1)\n",
            "Requirement already satisfied: python-dateutil>=2.7.3 in /usr/local/lib/python3.8/dist-packages (from pandas->factor_analyzer) (2.8.2)\n",
            "Requirement already satisfied: pytz>=2017.3 in /usr/local/lib/python3.8/dist-packages (from pandas->factor_analyzer) (2022.7.1)\n",
            "Requirement already satisfied: virtualenv>=20.10.0 in /usr/local/lib/python3.8/dist-packages (from pre-commit->factor_analyzer) (20.20.0)\n",
            "Requirement already satisfied: identify>=1.0.0 in /usr/local/lib/python3.8/dist-packages (from pre-commit->factor_analyzer) (2.5.18)\n",
            "Requirement already satisfied: pyyaml>=5.1 in /usr/local/lib/python3.8/dist-packages (from pre-commit->factor_analyzer) (6.0)\n",
            "Requirement already satisfied: cfgv>=2.0.0 in /usr/local/lib/python3.8/dist-packages (from pre-commit->factor_analyzer) (3.3.1)\n",
            "Requirement already satisfied: nodeenv>=0.11.1 in /usr/local/lib/python3.8/dist-packages (from pre-commit->factor_analyzer) (1.7.0)\n",
            "Requirement already satisfied: joblib>=1.1.1 in /usr/local/lib/python3.8/dist-packages (from scikit-learn->factor_analyzer) (1.2.0)\n",
            "Requirement already satisfied: threadpoolctl>=2.0.0 in /usr/local/lib/python3.8/dist-packages (from scikit-learn->factor_analyzer) (3.1.0)\n",
            "Requirement already satisfied: setuptools in /usr/local/lib/python3.8/dist-packages (from nodeenv>=0.11.1->pre-commit->factor_analyzer) (57.4.0)\n",
            "Requirement already satisfied: six>=1.5 in /usr/local/lib/python3.8/dist-packages (from python-dateutil>=2.7.3->pandas->factor_analyzer) (1.15.0)\n",
            "Requirement already satisfied: distlib<1,>=0.3.6 in /usr/local/lib/python3.8/dist-packages (from virtualenv>=20.10.0->pre-commit->factor_analyzer) (0.3.6)\n",
            "Requirement already satisfied: filelock<4,>=3.4.1 in /usr/local/lib/python3.8/dist-packages (from virtualenv>=20.10.0->pre-commit->factor_analyzer) (3.9.0)\n",
            "Requirement already satisfied: platformdirs<4,>=2.4 in /usr/local/lib/python3.8/dist-packages (from virtualenv>=20.10.0->pre-commit->factor_analyzer) (3.0.0)\n"
          ]
        }
      ],
      "source": [
        "!pip install factor_analyzer\n",
        "import pandas as pd"
      ]
    },
    {
      "cell_type": "code",
      "execution_count": 89,
      "metadata": {
        "id": "sTuEUEsGudgP",
        "colab": {
          "base_uri": "https://localhost:8080/",
          "height": 424
        },
        "outputId": "ac97dbcd-425b-43b9-8921-1a6e474e1bbb"
      },
      "outputs": [
        {
          "output_type": "execute_result",
          "data": {
            "text/plain": [
              "       L    M    N    O    P    Q    R    S    T    U    V    W    X    Y\n",
              "0    4.0  3.0  3.0  2.0  5.0  2.0  3.0  2.0  2.0  5.0  3.0  3.0  3.0  3.0\n",
              "1    5.0  4.0  5.0  4.0  4.0  4.0  4.0  2.0  5.0  5.0  5.0  3.0  3.0  5.0\n",
              "2    4.0  4.0  4.0  5.0  4.0  5.0  5.0  3.0  3.0  4.0  4.0  3.0  3.0  3.0\n",
              "3    5.0  5.0  3.0  3.0  3.0  5.0  3.0  3.0  3.0  4.0  4.0  5.0  5.0  5.0\n",
              "4    5.0  5.0  5.0  5.0  5.0  5.0  5.0  3.0  5.0  4.0  2.0  2.0  2.0  2.0\n",
              "..   ...  ...  ...  ...  ...  ...  ...  ...  ...  ...  ...  ...  ...  ...\n",
              "123  5.0  5.0  4.0  5.0  2.0  5.0  2.0  2.0  2.0  5.0  5.0  5.0  5.0  4.0\n",
              "124  4.0  4.0  5.0  5.0  5.0  5.0  5.0  3.0  3.0  3.0  3.0  2.0  2.0  2.0\n",
              "125  4.0  4.0  4.0  4.0  4.0  4.0  4.0  2.0  4.0  5.0  5.0  5.0  1.0  3.0\n",
              "126  5.0  5.0  5.0  3.0  5.0  5.0  5.0  3.0  3.0  4.0  5.0  5.0  2.0  3.0\n",
              "127  5.0  4.0  5.0  5.0  2.0  3.0  5.0  1.0  3.0  4.0  4.0  4.0  4.0  5.0\n",
              "\n",
              "[128 rows x 14 columns]"
            ],
            "text/html": [
              "\n",
              "  <div id=\"df-c4af16e2-37fa-41d5-ae30-676e35b29c2b\">\n",
              "    <div class=\"colab-df-container\">\n",
              "      <div>\n",
              "<style scoped>\n",
              "    .dataframe tbody tr th:only-of-type {\n",
              "        vertical-align: middle;\n",
              "    }\n",
              "\n",
              "    .dataframe tbody tr th {\n",
              "        vertical-align: top;\n",
              "    }\n",
              "\n",
              "    .dataframe thead th {\n",
              "        text-align: right;\n",
              "    }\n",
              "</style>\n",
              "<table border=\"1\" class=\"dataframe\">\n",
              "  <thead>\n",
              "    <tr style=\"text-align: right;\">\n",
              "      <th></th>\n",
              "      <th>L</th>\n",
              "      <th>M</th>\n",
              "      <th>N</th>\n",
              "      <th>O</th>\n",
              "      <th>P</th>\n",
              "      <th>Q</th>\n",
              "      <th>R</th>\n",
              "      <th>S</th>\n",
              "      <th>T</th>\n",
              "      <th>U</th>\n",
              "      <th>V</th>\n",
              "      <th>W</th>\n",
              "      <th>X</th>\n",
              "      <th>Y</th>\n",
              "    </tr>\n",
              "  </thead>\n",
              "  <tbody>\n",
              "    <tr>\n",
              "      <th>0</th>\n",
              "      <td>4.0</td>\n",
              "      <td>3.0</td>\n",
              "      <td>3.0</td>\n",
              "      <td>2.0</td>\n",
              "      <td>5.0</td>\n",
              "      <td>2.0</td>\n",
              "      <td>3.0</td>\n",
              "      <td>2.0</td>\n",
              "      <td>2.0</td>\n",
              "      <td>5.0</td>\n",
              "      <td>3.0</td>\n",
              "      <td>3.0</td>\n",
              "      <td>3.0</td>\n",
              "      <td>3.0</td>\n",
              "    </tr>\n",
              "    <tr>\n",
              "      <th>1</th>\n",
              "      <td>5.0</td>\n",
              "      <td>4.0</td>\n",
              "      <td>5.0</td>\n",
              "      <td>4.0</td>\n",
              "      <td>4.0</td>\n",
              "      <td>4.0</td>\n",
              "      <td>4.0</td>\n",
              "      <td>2.0</td>\n",
              "      <td>5.0</td>\n",
              "      <td>5.0</td>\n",
              "      <td>5.0</td>\n",
              "      <td>3.0</td>\n",
              "      <td>3.0</td>\n",
              "      <td>5.0</td>\n",
              "    </tr>\n",
              "    <tr>\n",
              "      <th>2</th>\n",
              "      <td>4.0</td>\n",
              "      <td>4.0</td>\n",
              "      <td>4.0</td>\n",
              "      <td>5.0</td>\n",
              "      <td>4.0</td>\n",
              "      <td>5.0</td>\n",
              "      <td>5.0</td>\n",
              "      <td>3.0</td>\n",
              "      <td>3.0</td>\n",
              "      <td>4.0</td>\n",
              "      <td>4.0</td>\n",
              "      <td>3.0</td>\n",
              "      <td>3.0</td>\n",
              "      <td>3.0</td>\n",
              "    </tr>\n",
              "    <tr>\n",
              "      <th>3</th>\n",
              "      <td>5.0</td>\n",
              "      <td>5.0</td>\n",
              "      <td>3.0</td>\n",
              "      <td>3.0</td>\n",
              "      <td>3.0</td>\n",
              "      <td>5.0</td>\n",
              "      <td>3.0</td>\n",
              "      <td>3.0</td>\n",
              "      <td>3.0</td>\n",
              "      <td>4.0</td>\n",
              "      <td>4.0</td>\n",
              "      <td>5.0</td>\n",
              "      <td>5.0</td>\n",
              "      <td>5.0</td>\n",
              "    </tr>\n",
              "    <tr>\n",
              "      <th>4</th>\n",
              "      <td>5.0</td>\n",
              "      <td>5.0</td>\n",
              "      <td>5.0</td>\n",
              "      <td>5.0</td>\n",
              "      <td>5.0</td>\n",
              "      <td>5.0</td>\n",
              "      <td>5.0</td>\n",
              "      <td>3.0</td>\n",
              "      <td>5.0</td>\n",
              "      <td>4.0</td>\n",
              "      <td>2.0</td>\n",
              "      <td>2.0</td>\n",
              "      <td>2.0</td>\n",
              "      <td>2.0</td>\n",
              "    </tr>\n",
              "    <tr>\n",
              "      <th>...</th>\n",
              "      <td>...</td>\n",
              "      <td>...</td>\n",
              "      <td>...</td>\n",
              "      <td>...</td>\n",
              "      <td>...</td>\n",
              "      <td>...</td>\n",
              "      <td>...</td>\n",
              "      <td>...</td>\n",
              "      <td>...</td>\n",
              "      <td>...</td>\n",
              "      <td>...</td>\n",
              "      <td>...</td>\n",
              "      <td>...</td>\n",
              "      <td>...</td>\n",
              "    </tr>\n",
              "    <tr>\n",
              "      <th>123</th>\n",
              "      <td>5.0</td>\n",
              "      <td>5.0</td>\n",
              "      <td>4.0</td>\n",
              "      <td>5.0</td>\n",
              "      <td>2.0</td>\n",
              "      <td>5.0</td>\n",
              "      <td>2.0</td>\n",
              "      <td>2.0</td>\n",
              "      <td>2.0</td>\n",
              "      <td>5.0</td>\n",
              "      <td>5.0</td>\n",
              "      <td>5.0</td>\n",
              "      <td>5.0</td>\n",
              "      <td>4.0</td>\n",
              "    </tr>\n",
              "    <tr>\n",
              "      <th>124</th>\n",
              "      <td>4.0</td>\n",
              "      <td>4.0</td>\n",
              "      <td>5.0</td>\n",
              "      <td>5.0</td>\n",
              "      <td>5.0</td>\n",
              "      <td>5.0</td>\n",
              "      <td>5.0</td>\n",
              "      <td>3.0</td>\n",
              "      <td>3.0</td>\n",
              "      <td>3.0</td>\n",
              "      <td>3.0</td>\n",
              "      <td>2.0</td>\n",
              "      <td>2.0</td>\n",
              "      <td>2.0</td>\n",
              "    </tr>\n",
              "    <tr>\n",
              "      <th>125</th>\n",
              "      <td>4.0</td>\n",
              "      <td>4.0</td>\n",
              "      <td>4.0</td>\n",
              "      <td>4.0</td>\n",
              "      <td>4.0</td>\n",
              "      <td>4.0</td>\n",
              "      <td>4.0</td>\n",
              "      <td>2.0</td>\n",
              "      <td>4.0</td>\n",
              "      <td>5.0</td>\n",
              "      <td>5.0</td>\n",
              "      <td>5.0</td>\n",
              "      <td>1.0</td>\n",
              "      <td>3.0</td>\n",
              "    </tr>\n",
              "    <tr>\n",
              "      <th>126</th>\n",
              "      <td>5.0</td>\n",
              "      <td>5.0</td>\n",
              "      <td>5.0</td>\n",
              "      <td>3.0</td>\n",
              "      <td>5.0</td>\n",
              "      <td>5.0</td>\n",
              "      <td>5.0</td>\n",
              "      <td>3.0</td>\n",
              "      <td>3.0</td>\n",
              "      <td>4.0</td>\n",
              "      <td>5.0</td>\n",
              "      <td>5.0</td>\n",
              "      <td>2.0</td>\n",
              "      <td>3.0</td>\n",
              "    </tr>\n",
              "    <tr>\n",
              "      <th>127</th>\n",
              "      <td>5.0</td>\n",
              "      <td>4.0</td>\n",
              "      <td>5.0</td>\n",
              "      <td>5.0</td>\n",
              "      <td>2.0</td>\n",
              "      <td>3.0</td>\n",
              "      <td>5.0</td>\n",
              "      <td>1.0</td>\n",
              "      <td>3.0</td>\n",
              "      <td>4.0</td>\n",
              "      <td>4.0</td>\n",
              "      <td>4.0</td>\n",
              "      <td>4.0</td>\n",
              "      <td>5.0</td>\n",
              "    </tr>\n",
              "  </tbody>\n",
              "</table>\n",
              "<p>128 rows × 14 columns</p>\n",
              "</div>\n",
              "      <button class=\"colab-df-convert\" onclick=\"convertToInteractive('df-c4af16e2-37fa-41d5-ae30-676e35b29c2b')\"\n",
              "              title=\"Convert this dataframe to an interactive table.\"\n",
              "              style=\"display:none;\">\n",
              "        \n",
              "  <svg xmlns=\"http://www.w3.org/2000/svg\" height=\"24px\"viewBox=\"0 0 24 24\"\n",
              "       width=\"24px\">\n",
              "    <path d=\"M0 0h24v24H0V0z\" fill=\"none\"/>\n",
              "    <path d=\"M18.56 5.44l.94 2.06.94-2.06 2.06-.94-2.06-.94-.94-2.06-.94 2.06-2.06.94zm-11 1L8.5 8.5l.94-2.06 2.06-.94-2.06-.94L8.5 2.5l-.94 2.06-2.06.94zm10 10l.94 2.06.94-2.06 2.06-.94-2.06-.94-.94-2.06-.94 2.06-2.06.94z\"/><path d=\"M17.41 7.96l-1.37-1.37c-.4-.4-.92-.59-1.43-.59-.52 0-1.04.2-1.43.59L10.3 9.45l-7.72 7.72c-.78.78-.78 2.05 0 2.83L4 21.41c.39.39.9.59 1.41.59.51 0 1.02-.2 1.41-.59l7.78-7.78 2.81-2.81c.8-.78.8-2.07 0-2.86zM5.41 20L4 18.59l7.72-7.72 1.47 1.35L5.41 20z\"/>\n",
              "  </svg>\n",
              "      </button>\n",
              "      \n",
              "  <style>\n",
              "    .colab-df-container {\n",
              "      display:flex;\n",
              "      flex-wrap:wrap;\n",
              "      gap: 12px;\n",
              "    }\n",
              "\n",
              "    .colab-df-convert {\n",
              "      background-color: #E8F0FE;\n",
              "      border: none;\n",
              "      border-radius: 50%;\n",
              "      cursor: pointer;\n",
              "      display: none;\n",
              "      fill: #1967D2;\n",
              "      height: 32px;\n",
              "      padding: 0 0 0 0;\n",
              "      width: 32px;\n",
              "    }\n",
              "\n",
              "    .colab-df-convert:hover {\n",
              "      background-color: #E2EBFA;\n",
              "      box-shadow: 0px 1px 2px rgba(60, 64, 67, 0.3), 0px 1px 3px 1px rgba(60, 64, 67, 0.15);\n",
              "      fill: #174EA6;\n",
              "    }\n",
              "\n",
              "    [theme=dark] .colab-df-convert {\n",
              "      background-color: #3B4455;\n",
              "      fill: #D2E3FC;\n",
              "    }\n",
              "\n",
              "    [theme=dark] .colab-df-convert:hover {\n",
              "      background-color: #434B5C;\n",
              "      box-shadow: 0px 1px 3px 1px rgba(0, 0, 0, 0.15);\n",
              "      filter: drop-shadow(0px 1px 2px rgba(0, 0, 0, 0.3));\n",
              "      fill: #FFFFFF;\n",
              "    }\n",
              "  </style>\n",
              "\n",
              "      <script>\n",
              "        const buttonEl =\n",
              "          document.querySelector('#df-c4af16e2-37fa-41d5-ae30-676e35b29c2b button.colab-df-convert');\n",
              "        buttonEl.style.display =\n",
              "          google.colab.kernel.accessAllowed ? 'block' : 'none';\n",
              "\n",
              "        async function convertToInteractive(key) {\n",
              "          const element = document.querySelector('#df-c4af16e2-37fa-41d5-ae30-676e35b29c2b');\n",
              "          const dataTable =\n",
              "            await google.colab.kernel.invokeFunction('convertToInteractive',\n",
              "                                                     [key], {});\n",
              "          if (!dataTable) return;\n",
              "\n",
              "          const docLinkHtml = 'Like what you see? Visit the ' +\n",
              "            '<a target=\"_blank\" href=https://colab.research.google.com/notebooks/data_table.ipynb>data table notebook</a>'\n",
              "            + ' to learn more about interactive tables.';\n",
              "          element.innerHTML = '';\n",
              "          dataTable['output_type'] = 'display_data';\n",
              "          await google.colab.output.renderOutput(dataTable, element);\n",
              "          const docLink = document.createElement('div');\n",
              "          docLink.innerHTML = docLinkHtml;\n",
              "          element.appendChild(docLink);\n",
              "        }\n",
              "      </script>\n",
              "    </div>\n",
              "  </div>\n",
              "  "
            ]
          },
          "metadata": {},
          "execution_count": 89
        }
      ],
      "source": [
        "data = pd.read_csv(\"clean.csv\", delimiter= ';', decimal=\",\")\n",
        "data = data.astype(float)\n",
        "data.drop(['ID','A','B','C','D','E','F','G','H','I','J','K'],axis=1,inplace=True)\n",
        "data"
      ]
    },
    {
      "cell_type": "code",
      "source": [
        "from factor_analyzer.factor_analyzer import calculate_bartlett_sphericity\n",
        "chi_square_value,p_value=calculate_bartlett_sphericity(data)\n",
        "chi_square_value, p_value"
      ],
      "metadata": {
        "id": "JivGy437DbOe",
        "outputId": "ce81a490-6534-4266-e3de-3a6baa0e6230",
        "colab": {
          "base_uri": "https://localhost:8080/"
        }
      },
      "execution_count": 90,
      "outputs": [
        {
          "output_type": "execute_result",
          "data": {
            "text/plain": [
              "(447.058360659338, 2.0592082841633175e-48)"
            ]
          },
          "metadata": {},
          "execution_count": 90
        }
      ]
    },
    {
      "cell_type": "code",
      "source": [
        "from factor_analyzer.factor_analyzer import calculate_kmo\n",
        "kmo_all,kmo_model=calculate_kmo(data)\n",
        "kmo_model"
      ],
      "metadata": {
        "id": "v2P4nVUOGDm6",
        "outputId": "3ecd63ea-fe6e-4779-d130-84dc1b7b3f60",
        "colab": {
          "base_uri": "https://localhost:8080/"
        }
      },
      "execution_count": 91,
      "outputs": [
        {
          "output_type": "execute_result",
          "data": {
            "text/plain": [
              "0.5776924257902982"
            ]
          },
          "metadata": {},
          "execution_count": 91
        }
      ]
    },
    {
      "cell_type": "code",
      "source": [
        "fa = FactorAnalyzer(rotation='varimax')\n",
        "fa.fit(data)\n",
        "eigen_values, vectors = fa.get_eigenvalues()\n",
        "eigen_values\n",
        "vectors"
      ],
      "metadata": {
        "id": "v80iNKsdGJrI",
        "outputId": "037787b8-9540-4fac-cc68-31ee9c6d69c9",
        "colab": {
          "base_uri": "https://localhost:8080/"
        }
      },
      "execution_count": 92,
      "outputs": [
        {
          "output_type": "execute_result",
          "data": {
            "text/plain": [
              "array([ 2.33113943,  1.754699  ,  0.90830824,  0.44356969,  0.35792351,\n",
              "        0.31678789,  0.17728043,  0.10364604, -0.07322984, -0.14986938,\n",
              "       -0.17101791, -0.22829919, -0.37593997, -0.40085238])"
            ]
          },
          "metadata": {},
          "execution_count": 92
        }
      ]
    },
    {
      "cell_type": "code",
      "source": [
        "plt.scatter(range(1,data.shape[1]+1),eigen_values)\n",
        "plt.plot(range(1,data.shape[1]+1),eigen_values)\n",
        "plt.title('Scree Plot')\n",
        "plt.xlabel('Factors')\n",
        "plt.ylabel('Eigenvalue')\n",
        "plt.grid()\n",
        "plt.show()"
      ],
      "metadata": {
        "id": "L_1-VRPHG49w",
        "outputId": "47f5667e-47b1-417e-f683-e949957eabde",
        "colab": {
          "base_uri": "https://localhost:8080/",
          "height": 295
        }
      },
      "execution_count": 93,
      "outputs": [
        {
          "output_type": "display_data",
          "data": {
            "text/plain": [
              "<Figure size 432x288 with 1 Axes>"
            ],
            "image/png": "[encoded data removed]"
          },
          "metadata": {
            "needs_background": "light"
          }
        }
      ]
    },
    {
      "cell_type": "code",
      "source": [
        "fa = FactorAnalyzer(bounds=(0.005, 1), impute='drop', is_corr_matrix=False,\n",
        "        method='minres', n_factors=3, rotation='varimax',use_smc=True)\n",
        "fa.fit(data)\n",
        "lo = fa.loadings_\n",
        "co = fa.corr_\n",
        "rm = fa.rotation_matrix_"
      ],
      "metadata": {
        "id": "MmI8u1gGHC8P"
      },
      "execution_count": 94,
      "outputs": []
    },
    {
      "cell_type": "code",
      "source": [
        "lo"
      ],
      "metadata": {
        "id": "mdwlKL8ER6no",
        "outputId": "a008b865-599b-4042-c434-df4f9dcf4ceb",
        "colab": {
          "base_uri": "https://localhost:8080/"
        }
      },
      "execution_count": 95,
      "outputs": [
        {
          "output_type": "execute_result",
          "data": {
            "text/plain": [
              "array([[ 0.032006  ,  0.15615408, -0.00230642],\n",
              "       [ 0.04581453,  0.14085574,  0.08626857],\n",
              "       [ 0.01095691,  0.35376556,  0.13259311],\n",
              "       [-0.07451943,  0.35209052,  0.31219619],\n",
              "       [-0.12380524,  0.30715405,  0.28615935],\n",
              "       [-0.10864879,  0.79682066,  0.07291867],\n",
              "       [-0.02754292,  0.65660782,  0.12657476],\n",
              "       [-0.00103532,  0.28226924,  0.59631415],\n",
              "       [ 0.02179674,  0.15009192,  0.85580845],\n",
              "       [ 0.3732556 , -0.11895491,  0.14242502],\n",
              "       [ 0.51937206, -0.0118271 ,  0.16815453],\n",
              "       [ 0.53691153,  0.00200559, -0.03093465],\n",
              "       [ 0.7756686 ,  0.18959337, -0.35014586],\n",
              "       [ 0.69180116,  0.08480093, -0.28314982]])"
            ]
          },
          "metadata": {},
          "execution_count": 95
        }
      ]
    },
    {
      "cell_type": "code",
      "source": [
        "co"
      ],
      "metadata": {
        "id": "SQNEiP0AR-Bo",
        "outputId": "b5fab0ce-fc7a-4623-d6b8-f81feada0d83",
        "colab": {
          "base_uri": "https://localhost:8080/"
        }
      },
      "execution_count": 96,
      "outputs": [
        {
          "output_type": "execute_result",
          "data": {
            "text/plain": [
              "array([[ 1.00000000e+00,  1.39776136e-01,  3.46519662e-02,\n",
              "         1.43457863e-01,  4.02165372e-02,  2.18373716e-01,\n",
              "        -3.23779623e-02,  6.27661963e-02, -4.48528569e-02,\n",
              "         8.90304317e-02, -8.89845048e-02,  1.88764640e-01,\n",
              "        -3.17930321e-02,  4.06330129e-02],\n",
              "       [ 1.39776136e-01,  1.00000000e+00,  2.92054247e-01,\n",
              "         3.89517405e-02,  1.02734766e-01,  7.91025295e-02,\n",
              "         3.84073182e-02,  3.71754572e-02,  6.78288451e-02,\n",
              "        -1.19691450e-03,  1.27159341e-01,  2.07496690e-02,\n",
              "        -2.89862924e-02,  1.56476757e-02],\n",
              "       [ 3.46519662e-02,  2.92054247e-01,  1.00000000e+00,\n",
              "         3.36472014e-01,  4.98600741e-02,  1.92294985e-01,\n",
              "         3.08845639e-01,  6.62804732e-02,  1.87637983e-01,\n",
              "        -4.13299193e-02,  9.65024413e-02, -1.29651308e-01,\n",
              "         5.86144619e-02,  2.13424731e-04],\n",
              "       [ 1.43457863e-01,  3.89517405e-02,  3.36472014e-01,\n",
              "         1.00000000e+00,  1.23523080e-01,  3.10782079e-01,\n",
              "         1.89618140e-01,  3.14123933e-01,  3.21958264e-01,\n",
              "         2.59862612e-02, -3.47508479e-02, -9.00993875e-02,\n",
              "        -3.28659780e-02, -1.71215751e-01],\n",
              "       [ 4.02165372e-02,  1.02734766e-01,  4.98600741e-02,\n",
              "         1.23523080e-01,  1.00000000e+00,  3.50524384e-01,\n",
              "         2.66285508e-01,  2.17806087e-01,  3.15590742e-01,\n",
              "        -6.48137659e-02,  5.54532842e-02, -5.54367974e-02,\n",
              "        -1.94872294e-01, -1.34693040e-01],\n",
              "       [ 2.18373716e-01,  7.91025295e-02,  1.92294985e-01,\n",
              "         3.10782079e-01,  3.50524384e-01,  1.00000000e+00,\n",
              "         5.62269846e-01,  2.47480509e-01,  1.70872529e-01,\n",
              "        -7.94527233e-02, -3.87004609e-02, -7.60148843e-02,\n",
              "         2.64795066e-02, -2.08268786e-02],\n",
              "       [-3.23779623e-02,  3.84073182e-02,  3.08845639e-01,\n",
              "         1.89618140e-01,  2.66285508e-01,  5.62269846e-01,\n",
              "         1.00000000e+00,  3.22141869e-01,  1.63862611e-01,\n",
              "        -8.22724503e-02,  4.22620789e-02,  2.71670932e-03,\n",
              "         5.40197946e-02, -2.47262128e-02],\n",
              "       [ 6.27661963e-02,  3.71754572e-02,  6.62804732e-02,\n",
              "         3.14123933e-01,  2.17806087e-01,  2.47480509e-01,\n",
              "         3.22141869e-01,  1.00000000e+00,  6.12538488e-01,\n",
              "        -1.80291911e-02,  4.85733314e-03,  8.81560989e-02,\n",
              "        -1.27369400e-01, -1.56947553e-01],\n",
              "       [-4.48528569e-02,  6.78288451e-02,  1.87637983e-01,\n",
              "         3.21958264e-01,  3.15590742e-01,  1.70872529e-01,\n",
              "         1.63862611e-01,  6.12538488e-01,  1.00000000e+00,\n",
              "         6.34382661e-02,  1.12702944e-01, -5.02679023e-02,\n",
              "        -2.39672599e-01, -1.39313673e-01],\n",
              "       [ 8.90304317e-02, -1.19691450e-03, -4.13299193e-02,\n",
              "         2.59862612e-02, -6.48137659e-02, -7.94527233e-02,\n",
              "        -8.22724503e-02, -1.80291911e-02,  6.34382661e-02,\n",
              "         1.00000000e+00,  4.28278484e-01,  1.79231020e-01,\n",
              "         1.78368453e-01,  1.13468345e-01],\n",
              "       [-8.89845048e-02,  1.27159341e-01,  9.65024413e-02,\n",
              "        -3.47508479e-02,  5.54532842e-02, -3.87004609e-02,\n",
              "         4.22620789e-02,  4.85733314e-03,  1.12702944e-01,\n",
              "         4.28278484e-01,  1.00000000e+00,  2.58851590e-01,\n",
              "         2.83728138e-01,  2.85928194e-01],\n",
              "       [ 1.88764640e-01,  2.07496690e-02, -1.29651308e-01,\n",
              "        -9.00993875e-02, -5.54367974e-02, -7.60148843e-02,\n",
              "         2.71670932e-03,  8.81560989e-02, -5.02679023e-02,\n",
              "         1.79231020e-01,  2.58851590e-01,  1.00000000e+00,\n",
              "         4.40528188e-01,  3.78671925e-01],\n",
              "       [-3.17930321e-02, -2.89862924e-02,  5.86144619e-02,\n",
              "        -3.28659780e-02, -1.94872294e-01,  2.64795066e-02,\n",
              "         5.40197946e-02, -1.27369400e-01, -2.39672599e-01,\n",
              "         1.78368453e-01,  2.83728138e-01,  4.40528188e-01,\n",
              "         1.00000000e+00,  7.08071013e-01],\n",
              "       [ 4.06330129e-02,  1.56476757e-02,  2.13424731e-04,\n",
              "        -1.71215751e-01, -1.34693040e-01, -2.08268786e-02,\n",
              "        -2.47262128e-02, -1.56947553e-01, -1.39313673e-01,\n",
              "         1.13468345e-01,  2.85928194e-01,  3.78671925e-01,\n",
              "         7.08071013e-01,  1.00000000e+00]])"
            ]
          },
          "metadata": {},
          "execution_count": 96
        }
      ]
    },
    {
      "cell_type": "code",
      "source": [
        "arr = np.asarray(lo)\n",
        "np.savetxt('clean_result.csv',arr, delimiter=\";\", fmt='%1.4f')   \n",
        "arr"
      ],
      "metadata": {
        "id": "cT7t3_bMRy_A",
        "outputId": "b8f315ab-4843-4863-ef5b-a7b50741a5de",
        "colab": {
          "base_uri": "https://localhost:8080/"
        }
      },
      "execution_count": 97,
      "outputs": [
        {
          "output_type": "execute_result",
          "data": {
            "text/plain": [
              "array([[ 0.032006  ,  0.15615408, -0.00230642],\n",
              "       [ 0.04581453,  0.14085574,  0.08626857],\n",
              "       [ 0.01095691,  0.35376556,  0.13259311],\n",
              "       [-0.07451943,  0.35209052,  0.31219619],\n",
              "       [-0.12380524,  0.30715405,  0.28615935],\n",
              "       [-0.10864879,  0.79682066,  0.07291867],\n",
              "       [-0.02754292,  0.65660782,  0.12657476],\n",
              "       [-0.00103532,  0.28226924,  0.59631415],\n",
              "       [ 0.02179674,  0.15009192,  0.85580845],\n",
              "       [ 0.3732556 , -0.11895491,  0.14242502],\n",
              "       [ 0.51937206, -0.0118271 ,  0.16815453],\n",
              "       [ 0.53691153,  0.00200559, -0.03093465],\n",
              "       [ 0.7756686 ,  0.18959337, -0.35014586],\n",
              "       [ 0.69180116,  0.08480093, -0.28314982]])"
            ]
          },
          "metadata": {},
          "execution_count": 97
        }
      ]
    },
    {
      "cell_type": "code",
      "source": [
        "fa.get_factor_variance()"
      ],
      "metadata": {
        "id": "sN4i7DPrIaSB",
        "outputId": "0a91bc86-cfb1-4c14-a3a7-ddf0cbcca5f2",
        "colab": {
          "base_uri": "https://localhost:8080/"
        }
      },
      "execution_count": 98,
      "outputs": [
        {
          "output_type": "execute_result",
          "data": {
            "text/plain": [
              "(array([1.81475533, 1.61337738, 1.56601287]),\n",
              " array([0.12962538, 0.11524124, 0.11185806]),\n",
              " array([0.12962538, 0.24486662, 0.35672468]))"
            ]
          },
          "metadata": {},
          "execution_count": 98
        }
      ]
    }
  ],
  "metadata": {
    "colab": {
      "provenance": [],
      "authorship_tag": "ABX9TyNa8tOzsRrmdkKAcYW7GVHZ",
      "include_colab_link": true
    },
    "kernelspec": {
      "display_name": "Python 3",
      "name": "python3"
    },
    "language_info": {
      "name": "python"
    }
  },
  "nbformat": 4,
  "nbformat_minor": 0
}